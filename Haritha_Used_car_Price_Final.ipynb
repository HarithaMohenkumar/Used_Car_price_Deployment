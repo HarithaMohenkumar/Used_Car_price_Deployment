{
  "nbformat": 4,
  "nbformat_minor": 0,
  "metadata": {
    "colab": {
      "name": "Haritha_Used_car_Price_Final.ipynb",
      "provenance": [],
      "collapsed_sections": []
    },
    "kernelspec": {
      "name": "python3",
      "display_name": "Python 3"
    },
    "language_info": {
      "name": "python"
    },
    "accelerator": "GPU"
  },
  "cells": [
    {
      "cell_type": "code",
      "execution_count": 1,
      "metadata": {
        "id": "ZZTI5k7DkAh3"
      },
      "outputs": [],
      "source": [
        "#importing necessary libraries\n",
        "import pandas as pd\n",
        "import numpy as np\n",
        "import matplotlib.pyplot as plt\n",
        "import seaborn as sns\n",
        "%matplotlib inline \n",
        "plt.rcParams['figure.figsize'] = (9,6) \n",
        "import warnings\n",
        "warnings.filterwarnings('ignore')"
      ]
    },
    {
      "cell_type": "code",
      "source": [
        "car=pd.read_csv(\"/content/drive/MyDrive/tc20171021.csv\",on_bad_lines='skip')"
      ],
      "metadata": {
        "id": "LlWaaKwykmOO"
      },
      "execution_count": 2,
      "outputs": []
    },
    {
      "cell_type": "code",
      "source": [
        "car.head()"
      ],
      "metadata": {
        "colab": {
          "base_uri": "https://localhost:8080/",
          "height": 206
        },
        "id": "AoFmKsnqkzdy",
        "outputId": "52a9e5ec-372b-46eb-a605-11edf5a27a55"
      },
      "execution_count": 3,
      "outputs": [
        {
          "output_type": "execute_result",
          "data": {
            "text/plain": [
              "   Id  Price  Year  Mileage            City State                Vin   Make  \\\n",
              "0   1  16472  2015    18681  Jefferson City    MO  KL4CJBSBXFB267643  Buick   \n",
              "1   2  15749  2015    27592        Highland    IN  KL4CJASB5FB245057  Buick   \n",
              "2   3  16998  2015    13650           Boone    NC  KL4CJCSB0FB264921  Buick   \n",
              "3   4  15777  2015    25195     New Orleans    LA  KL4CJASB4FB217542  Buick   \n",
              "4   5  16784  2015    22800       Las Vegas    NV  KL4CJBSB3FB166881  Buick   \n",
              "\n",
              "               Model  \n",
              "0  EncoreConvenience  \n",
              "1          EncoreFWD  \n",
              "2      EncoreLeather  \n",
              "3          EncoreFWD  \n",
              "4  EncoreConvenience  "
            ],
            "text/html": [
              "\n",
              "  <div id=\"df-f7cfe267-892b-4a9f-a288-f40d62aeb937\">\n",
              "    <div class=\"colab-df-container\">\n",
              "      <div>\n",
              "<style scoped>\n",
              "    .dataframe tbody tr th:only-of-type {\n",
              "        vertical-align: middle;\n",
              "    }\n",
              "\n",
              "    .dataframe tbody tr th {\n",
              "        vertical-align: top;\n",
              "    }\n",
              "\n",
              "    .dataframe thead th {\n",
              "        text-align: right;\n",
              "    }\n",
              "</style>\n",
              "<table border=\"1\" class=\"dataframe\">\n",
              "  <thead>\n",
              "    <tr style=\"text-align: right;\">\n",
              "      <th></th>\n",
              "      <th>Id</th>\n",
              "      <th>Price</th>\n",
              "      <th>Year</th>\n",
              "      <th>Mileage</th>\n",
              "      <th>City</th>\n",
              "      <th>State</th>\n",
              "      <th>Vin</th>\n",
              "      <th>Make</th>\n",
              "      <th>Model</th>\n",
              "    </tr>\n",
              "  </thead>\n",
              "  <tbody>\n",
              "    <tr>\n",
              "      <th>0</th>\n",
              "      <td>1</td>\n",
              "      <td>16472</td>\n",
              "      <td>2015</td>\n",
              "      <td>18681</td>\n",
              "      <td>Jefferson City</td>\n",
              "      <td>MO</td>\n",
              "      <td>KL4CJBSBXFB267643</td>\n",
              "      <td>Buick</td>\n",
              "      <td>EncoreConvenience</td>\n",
              "    </tr>\n",
              "    <tr>\n",
              "      <th>1</th>\n",
              "      <td>2</td>\n",
              "      <td>15749</td>\n",
              "      <td>2015</td>\n",
              "      <td>27592</td>\n",
              "      <td>Highland</td>\n",
              "      <td>IN</td>\n",
              "      <td>KL4CJASB5FB245057</td>\n",
              "      <td>Buick</td>\n",
              "      <td>EncoreFWD</td>\n",
              "    </tr>\n",
              "    <tr>\n",
              "      <th>2</th>\n",
              "      <td>3</td>\n",
              "      <td>16998</td>\n",
              "      <td>2015</td>\n",
              "      <td>13650</td>\n",
              "      <td>Boone</td>\n",
              "      <td>NC</td>\n",
              "      <td>KL4CJCSB0FB264921</td>\n",
              "      <td>Buick</td>\n",
              "      <td>EncoreLeather</td>\n",
              "    </tr>\n",
              "    <tr>\n",
              "      <th>3</th>\n",
              "      <td>4</td>\n",
              "      <td>15777</td>\n",
              "      <td>2015</td>\n",
              "      <td>25195</td>\n",
              "      <td>New Orleans</td>\n",
              "      <td>LA</td>\n",
              "      <td>KL4CJASB4FB217542</td>\n",
              "      <td>Buick</td>\n",
              "      <td>EncoreFWD</td>\n",
              "    </tr>\n",
              "    <tr>\n",
              "      <th>4</th>\n",
              "      <td>5</td>\n",
              "      <td>16784</td>\n",
              "      <td>2015</td>\n",
              "      <td>22800</td>\n",
              "      <td>Las Vegas</td>\n",
              "      <td>NV</td>\n",
              "      <td>KL4CJBSB3FB166881</td>\n",
              "      <td>Buick</td>\n",
              "      <td>EncoreConvenience</td>\n",
              "    </tr>\n",
              "  </tbody>\n",
              "</table>\n",
              "</div>\n",
              "      <button class=\"colab-df-convert\" onclick=\"convertToInteractive('df-f7cfe267-892b-4a9f-a288-f40d62aeb937')\"\n",
              "              title=\"Convert this dataframe to an interactive table.\"\n",
              "              style=\"display:none;\">\n",
              "        \n",
              "  <svg xmlns=\"http://www.w3.org/2000/svg\" height=\"24px\"viewBox=\"0 0 24 24\"\n",
              "       width=\"24px\">\n",
              "    <path d=\"M0 0h24v24H0V0z\" fill=\"none\"/>\n",
              "    <path d=\"M18.56 5.44l.94 2.06.94-2.06 2.06-.94-2.06-.94-.94-2.06-.94 2.06-2.06.94zm-11 1L8.5 8.5l.94-2.06 2.06-.94-2.06-.94L8.5 2.5l-.94 2.06-2.06.94zm10 10l.94 2.06.94-2.06 2.06-.94-2.06-.94-.94-2.06-.94 2.06-2.06.94z\"/><path d=\"M17.41 7.96l-1.37-1.37c-.4-.4-.92-.59-1.43-.59-.52 0-1.04.2-1.43.59L10.3 9.45l-7.72 7.72c-.78.78-.78 2.05 0 2.83L4 21.41c.39.39.9.59 1.41.59.51 0 1.02-.2 1.41-.59l7.78-7.78 2.81-2.81c.8-.78.8-2.07 0-2.86zM5.41 20L4 18.59l7.72-7.72 1.47 1.35L5.41 20z\"/>\n",
              "  </svg>\n",
              "      </button>\n",
              "      \n",
              "  <style>\n",
              "    .colab-df-container {\n",
              "      display:flex;\n",
              "      flex-wrap:wrap;\n",
              "      gap: 12px;\n",
              "    }\n",
              "\n",
              "    .colab-df-convert {\n",
              "      background-color: #E8F0FE;\n",
              "      border: none;\n",
              "      border-radius: 50%;\n",
              "      cursor: pointer;\n",
              "      display: none;\n",
              "      fill: #1967D2;\n",
              "      height: 32px;\n",
              "      padding: 0 0 0 0;\n",
              "      width: 32px;\n",
              "    }\n",
              "\n",
              "    .colab-df-convert:hover {\n",
              "      background-color: #E2EBFA;\n",
              "      box-shadow: 0px 1px 2px rgba(60, 64, 67, 0.3), 0px 1px 3px 1px rgba(60, 64, 67, 0.15);\n",
              "      fill: #174EA6;\n",
              "    }\n",
              "\n",
              "    [theme=dark] .colab-df-convert {\n",
              "      background-color: #3B4455;\n",
              "      fill: #D2E3FC;\n",
              "    }\n",
              "\n",
              "    [theme=dark] .colab-df-convert:hover {\n",
              "      background-color: #434B5C;\n",
              "      box-shadow: 0px 1px 3px 1px rgba(0, 0, 0, 0.15);\n",
              "      filter: drop-shadow(0px 1px 2px rgba(0, 0, 0, 0.3));\n",
              "      fill: #FFFFFF;\n",
              "    }\n",
              "  </style>\n",
              "\n",
              "      <script>\n",
              "        const buttonEl =\n",
              "          document.querySelector('#df-f7cfe267-892b-4a9f-a288-f40d62aeb937 button.colab-df-convert');\n",
              "        buttonEl.style.display =\n",
              "          google.colab.kernel.accessAllowed ? 'block' : 'none';\n",
              "\n",
              "        async function convertToInteractive(key) {\n",
              "          const element = document.querySelector('#df-f7cfe267-892b-4a9f-a288-f40d62aeb937');\n",
              "          const dataTable =\n",
              "            await google.colab.kernel.invokeFunction('convertToInteractive',\n",
              "                                                     [key], {});\n",
              "          if (!dataTable) return;\n",
              "\n",
              "          const docLinkHtml = 'Like what you see? Visit the ' +\n",
              "            '<a target=\"_blank\" href=https://colab.research.google.com/notebooks/data_table.ipynb>data table notebook</a>'\n",
              "            + ' to learn more about interactive tables.';\n",
              "          element.innerHTML = '';\n",
              "          dataTable['output_type'] = 'display_data';\n",
              "          await google.colab.output.renderOutput(dataTable, element);\n",
              "          const docLink = document.createElement('div');\n",
              "          docLink.innerHTML = docLinkHtml;\n",
              "          element.appendChild(docLink);\n",
              "        }\n",
              "      </script>\n",
              "    </div>\n",
              "  </div>\n",
              "  "
            ]
          },
          "metadata": {},
          "execution_count": 3
        }
      ]
    },
    {
      "cell_type": "code",
      "source": [
        "car.info()"
      ],
      "metadata": {
        "colab": {
          "base_uri": "https://localhost:8080/"
        },
        "id": "PE9DURbRmYbU",
        "outputId": "64e4fd23-db2b-4dfb-e28a-0195ca3faa5e"
      },
      "execution_count": 4,
      "outputs": [
        {
          "output_type": "stream",
          "name": "stdout",
          "text": [
            "<class 'pandas.core.frame.DataFrame'>\n",
            "RangeIndex: 1216250 entries, 0 to 1216249\n",
            "Data columns (total 9 columns):\n",
            " #   Column   Non-Null Count    Dtype \n",
            "---  ------   --------------    ----- \n",
            " 0   Id       1216250 non-null  int64 \n",
            " 1   Price    1216250 non-null  int64 \n",
            " 2   Year     1216250 non-null  int64 \n",
            " 3   Mileage  1216250 non-null  int64 \n",
            " 4   City     1216250 non-null  object\n",
            " 5   State    1216250 non-null  object\n",
            " 6   Vin      1216250 non-null  object\n",
            " 7   Make     1216250 non-null  object\n",
            " 8   Model    1216250 non-null  object\n",
            "dtypes: int64(4), object(5)\n",
            "memory usage: 83.5+ MB\n"
          ]
        }
      ]
    },
    {
      "cell_type": "code",
      "source": [
        "car.describe()"
      ],
      "metadata": {
        "colab": {
          "base_uri": "https://localhost:8080/",
          "height": 300
        },
        "id": "PXdB_dYymbL6",
        "outputId": "c162cddc-f0b7-4a34-ef10-830a6ae81ef2"
      },
      "execution_count": 5,
      "outputs": [
        {
          "output_type": "execute_result",
          "data": {
            "text/plain": [
              "                 Id         Price          Year       Mileage\n",
              "count  1.216250e+06  1.216250e+06  1.216250e+06  1.216250e+06\n",
              "mean   6.132814e+05  2.096887e+04  2.013307e+03  5.290810e+04\n",
              "std    3.546571e+05  1.315940e+04  3.441842e+00  8.192775e+04\n",
              "min    1.000000e+00  1.500000e+03  1.997000e+03  5.000000e+00\n",
              "25%    3.081122e+05  1.299400e+04  2.012000e+03  2.396200e+04\n",
              "50%    6.134915e+05  1.799500e+04  2.014000e+03  4.053400e+04\n",
              "75%    9.175538e+05  2.641400e+04  2.016000e+03  7.272500e+04\n",
              "max    1.233042e+06  4.995000e+05  2.018000e+03  7.758776e+07"
            ],
            "text/html": [
              "\n",
              "  <div id=\"df-e5d0bc86-3e2d-4560-ac46-571db5329aca\">\n",
              "    <div class=\"colab-df-container\">\n",
              "      <div>\n",
              "<style scoped>\n",
              "    .dataframe tbody tr th:only-of-type {\n",
              "        vertical-align: middle;\n",
              "    }\n",
              "\n",
              "    .dataframe tbody tr th {\n",
              "        vertical-align: top;\n",
              "    }\n",
              "\n",
              "    .dataframe thead th {\n",
              "        text-align: right;\n",
              "    }\n",
              "</style>\n",
              "<table border=\"1\" class=\"dataframe\">\n",
              "  <thead>\n",
              "    <tr style=\"text-align: right;\">\n",
              "      <th></th>\n",
              "      <th>Id</th>\n",
              "      <th>Price</th>\n",
              "      <th>Year</th>\n",
              "      <th>Mileage</th>\n",
              "    </tr>\n",
              "  </thead>\n",
              "  <tbody>\n",
              "    <tr>\n",
              "      <th>count</th>\n",
              "      <td>1.216250e+06</td>\n",
              "      <td>1.216250e+06</td>\n",
              "      <td>1.216250e+06</td>\n",
              "      <td>1.216250e+06</td>\n",
              "    </tr>\n",
              "    <tr>\n",
              "      <th>mean</th>\n",
              "      <td>6.132814e+05</td>\n",
              "      <td>2.096887e+04</td>\n",
              "      <td>2.013307e+03</td>\n",
              "      <td>5.290810e+04</td>\n",
              "    </tr>\n",
              "    <tr>\n",
              "      <th>std</th>\n",
              "      <td>3.546571e+05</td>\n",
              "      <td>1.315940e+04</td>\n",
              "      <td>3.441842e+00</td>\n",
              "      <td>8.192775e+04</td>\n",
              "    </tr>\n",
              "    <tr>\n",
              "      <th>min</th>\n",
              "      <td>1.000000e+00</td>\n",
              "      <td>1.500000e+03</td>\n",
              "      <td>1.997000e+03</td>\n",
              "      <td>5.000000e+00</td>\n",
              "    </tr>\n",
              "    <tr>\n",
              "      <th>25%</th>\n",
              "      <td>3.081122e+05</td>\n",
              "      <td>1.299400e+04</td>\n",
              "      <td>2.012000e+03</td>\n",
              "      <td>2.396200e+04</td>\n",
              "    </tr>\n",
              "    <tr>\n",
              "      <th>50%</th>\n",
              "      <td>6.134915e+05</td>\n",
              "      <td>1.799500e+04</td>\n",
              "      <td>2.014000e+03</td>\n",
              "      <td>4.053400e+04</td>\n",
              "    </tr>\n",
              "    <tr>\n",
              "      <th>75%</th>\n",
              "      <td>9.175538e+05</td>\n",
              "      <td>2.641400e+04</td>\n",
              "      <td>2.016000e+03</td>\n",
              "      <td>7.272500e+04</td>\n",
              "    </tr>\n",
              "    <tr>\n",
              "      <th>max</th>\n",
              "      <td>1.233042e+06</td>\n",
              "      <td>4.995000e+05</td>\n",
              "      <td>2.018000e+03</td>\n",
              "      <td>7.758776e+07</td>\n",
              "    </tr>\n",
              "  </tbody>\n",
              "</table>\n",
              "</div>\n",
              "      <button class=\"colab-df-convert\" onclick=\"convertToInteractive('df-e5d0bc86-3e2d-4560-ac46-571db5329aca')\"\n",
              "              title=\"Convert this dataframe to an interactive table.\"\n",
              "              style=\"display:none;\">\n",
              "        \n",
              "  <svg xmlns=\"http://www.w3.org/2000/svg\" height=\"24px\"viewBox=\"0 0 24 24\"\n",
              "       width=\"24px\">\n",
              "    <path d=\"M0 0h24v24H0V0z\" fill=\"none\"/>\n",
              "    <path d=\"M18.56 5.44l.94 2.06.94-2.06 2.06-.94-2.06-.94-.94-2.06-.94 2.06-2.06.94zm-11 1L8.5 8.5l.94-2.06 2.06-.94-2.06-.94L8.5 2.5l-.94 2.06-2.06.94zm10 10l.94 2.06.94-2.06 2.06-.94-2.06-.94-.94-2.06-.94 2.06-2.06.94z\"/><path d=\"M17.41 7.96l-1.37-1.37c-.4-.4-.92-.59-1.43-.59-.52 0-1.04.2-1.43.59L10.3 9.45l-7.72 7.72c-.78.78-.78 2.05 0 2.83L4 21.41c.39.39.9.59 1.41.59.51 0 1.02-.2 1.41-.59l7.78-7.78 2.81-2.81c.8-.78.8-2.07 0-2.86zM5.41 20L4 18.59l7.72-7.72 1.47 1.35L5.41 20z\"/>\n",
              "  </svg>\n",
              "      </button>\n",
              "      \n",
              "  <style>\n",
              "    .colab-df-container {\n",
              "      display:flex;\n",
              "      flex-wrap:wrap;\n",
              "      gap: 12px;\n",
              "    }\n",
              "\n",
              "    .colab-df-convert {\n",
              "      background-color: #E8F0FE;\n",
              "      border: none;\n",
              "      border-radius: 50%;\n",
              "      cursor: pointer;\n",
              "      display: none;\n",
              "      fill: #1967D2;\n",
              "      height: 32px;\n",
              "      padding: 0 0 0 0;\n",
              "      width: 32px;\n",
              "    }\n",
              "\n",
              "    .colab-df-convert:hover {\n",
              "      background-color: #E2EBFA;\n",
              "      box-shadow: 0px 1px 2px rgba(60, 64, 67, 0.3), 0px 1px 3px 1px rgba(60, 64, 67, 0.15);\n",
              "      fill: #174EA6;\n",
              "    }\n",
              "\n",
              "    [theme=dark] .colab-df-convert {\n",
              "      background-color: #3B4455;\n",
              "      fill: #D2E3FC;\n",
              "    }\n",
              "\n",
              "    [theme=dark] .colab-df-convert:hover {\n",
              "      background-color: #434B5C;\n",
              "      box-shadow: 0px 1px 3px 1px rgba(0, 0, 0, 0.15);\n",
              "      filter: drop-shadow(0px 1px 2px rgba(0, 0, 0, 0.3));\n",
              "      fill: #FFFFFF;\n",
              "    }\n",
              "  </style>\n",
              "\n",
              "      <script>\n",
              "        const buttonEl =\n",
              "          document.querySelector('#df-e5d0bc86-3e2d-4560-ac46-571db5329aca button.colab-df-convert');\n",
              "        buttonEl.style.display =\n",
              "          google.colab.kernel.accessAllowed ? 'block' : 'none';\n",
              "\n",
              "        async function convertToInteractive(key) {\n",
              "          const element = document.querySelector('#df-e5d0bc86-3e2d-4560-ac46-571db5329aca');\n",
              "          const dataTable =\n",
              "            await google.colab.kernel.invokeFunction('convertToInteractive',\n",
              "                                                     [key], {});\n",
              "          if (!dataTable) return;\n",
              "\n",
              "          const docLinkHtml = 'Like what you see? Visit the ' +\n",
              "            '<a target=\"_blank\" href=https://colab.research.google.com/notebooks/data_table.ipynb>data table notebook</a>'\n",
              "            + ' to learn more about interactive tables.';\n",
              "          element.innerHTML = '';\n",
              "          dataTable['output_type'] = 'display_data';\n",
              "          await google.colab.output.renderOutput(dataTable, element);\n",
              "          const docLink = document.createElement('div');\n",
              "          docLink.innerHTML = docLinkHtml;\n",
              "          element.appendChild(docLink);\n",
              "        }\n",
              "      </script>\n",
              "    </div>\n",
              "  </div>\n",
              "  "
            ]
          },
          "metadata": {},
          "execution_count": 5
        }
      ]
    },
    {
      "cell_type": "code",
      "source": [
        "car.shape"
      ],
      "metadata": {
        "colab": {
          "base_uri": "https://localhost:8080/"
        },
        "id": "bNBZgFN1mc54",
        "outputId": "caff6f24-2e36-4a05-89fe-0f6173096630"
      },
      "execution_count": 6,
      "outputs": [
        {
          "output_type": "execute_result",
          "data": {
            "text/plain": [
              "(1216250, 9)"
            ]
          },
          "metadata": {},
          "execution_count": 6
        }
      ]
    },
    {
      "cell_type": "code",
      "source": [
        "car.columns"
      ],
      "metadata": {
        "colab": {
          "base_uri": "https://localhost:8080/"
        },
        "id": "ypPm2l2fmeAd",
        "outputId": "5f88e82e-402f-47a6-b607-a88281bf540e"
      },
      "execution_count": 7,
      "outputs": [
        {
          "output_type": "execute_result",
          "data": {
            "text/plain": [
              "Index(['Id', 'Price', 'Year', 'Mileage', 'City', 'State', 'Vin', 'Make',\n",
              "       'Model'],\n",
              "      dtype='object')"
            ]
          },
          "metadata": {},
          "execution_count": 7
        }
      ]
    },
    {
      "cell_type": "code",
      "source": [
        "car.isnull().sum() #no missing values in dataset"
      ],
      "metadata": {
        "colab": {
          "base_uri": "https://localhost:8080/"
        },
        "id": "UNn6oqWemwJl",
        "outputId": "72f583b7-42ae-49fd-acc3-f731772308c2"
      },
      "execution_count": 8,
      "outputs": [
        {
          "output_type": "execute_result",
          "data": {
            "text/plain": [
              "Id         0\n",
              "Price      0\n",
              "Year       0\n",
              "Mileage    0\n",
              "City       0\n",
              "State      0\n",
              "Vin        0\n",
              "Make       0\n",
              "Model      0\n",
              "dtype: int64"
            ]
          },
          "metadata": {},
          "execution_count": 8
        }
      ]
    },
    {
      "cell_type": "code",
      "source": [
        "# Record distribution over the year\n",
        "sns.distplot((car[\"Year\"]))"
      ],
      "metadata": {
        "colab": {
          "base_uri": "https://localhost:8080/",
          "height": 296
        },
        "id": "BRFUCthenBWj",
        "outputId": "686b69ab-a8ab-4be9-a877-892513dde631"
      },
      "execution_count": 9,
      "outputs": [
        {
          "output_type": "execute_result",
          "data": {
            "text/plain": [
              "<matplotlib.axes._subplots.AxesSubplot at 0x7f1e79aa6510>"
            ]
          },
          "metadata": {},
          "execution_count": 9
        },
        {
          "output_type": "display_data",
          "data": {
            "text/plain": [
              "<Figure size 432x288 with 1 Axes>"
            ],
            "image/png": "[encoded data removed]"
          },
          "metadata": {
            "needs_background": "light"
          }
        }
      ]
    },
    {
      "cell_type": "markdown",
      "source": [
        "The distribution seems high from 2014 to 2016"
      ],
      "metadata": {
        "id": "abgZ1a2vu_ZL"
      }
    },
    {
      "cell_type": "code",
      "source": [
        "#Distribution plot for price\n",
        "sns.distplot(car['Price'])\n"
      ],
      "metadata": {
        "colab": {
          "base_uri": "https://localhost:8080/",
          "height": 307
        },
        "id": "0RIrWryUnQsz",
        "outputId": "0bfdfc01-607c-436b-dea2-ea43d9803aa4"
      },
      "execution_count": 10,
      "outputs": [
        {
          "output_type": "execute_result",
          "data": {
            "text/plain": [
              "<matplotlib.axes._subplots.AxesSubplot at 0x7f1e74c72dd0>"
            ]
          },
          "metadata": {},
          "execution_count": 10
        },
        {
          "output_type": "display_data",
          "data": {
            "text/plain": [
              "<Figure size 432x288 with 1 Axes>"
            ],
            "image/png": "[encoded data removed]"
          },
          "metadata": {
            "needs_background": "light"
          }
        }
      ]
    },
    {
      "cell_type": "markdown",
      "source": [
        "Price distribution is postively skewed \n"
      ],
      "metadata": {
        "id": "MjXxGAEDvW28"
      }
    },
    {
      "cell_type": "code",
      "source": [
        "#Distribution plot for price\n",
        "sns.distplot(car['Mileage'])"
      ],
      "metadata": {
        "colab": {
          "base_uri": "https://localhost:8080/",
          "height": 307
        },
        "id": "VzSDFD2Y4cpS",
        "outputId": "ecd05abb-8bc5-4464-9b0d-419e83568ff8"
      },
      "execution_count": 11,
      "outputs": [
        {
          "output_type": "execute_result",
          "data": {
            "text/plain": [
              "<matplotlib.axes._subplots.AxesSubplot at 0x7f1e74bcc590>"
            ]
          },
          "metadata": {},
          "execution_count": 11
        },
        {
          "output_type": "display_data",
          "data": {
            "text/plain": [
              "<Figure size 432x288 with 1 Axes>"
            ],
            "image/png": "[encoded data removed]"
          },
          "metadata": {
            "needs_background": "light"
          }
        }
      ]
    },
    {
      "cell_type": "code",
      "source": [
        "car.Make.value_counts()"
      ],
      "metadata": {
        "colab": {
          "base_uri": "https://localhost:8080/"
        },
        "id": "H-ZaUFMhv_va",
        "outputId": "945905ea-c617-481d-ab62-ba468ca73c6d"
      },
      "execution_count": 12,
      "outputs": [
        {
          "output_type": "execute_result",
          "data": {
            "text/plain": [
              "Ford             161999\n",
              "Chevrolet        150426\n",
              "Toyota           115095\n",
              "Nissan            98710\n",
              "Honda             76880\n",
              "Jeep              60323\n",
              "Hyundai           54647\n",
              "Dodge             50688\n",
              "GMC               43045\n",
              "Kia               42834\n",
              "Mercedes-Benz     38131\n",
              "Volkswagen        33238\n",
              "BMW               32415\n",
              "Lexus             29830\n",
              "Chrysler          23848\n",
              "Subaru            23758\n",
              "Cadillac          21911\n",
              "Mazda             19857\n",
              "Buick             18157\n",
              "INFINITI          17752\n",
              "Ram               15245\n",
              "Audi              12618\n",
              "Acura             11049\n",
              "Lincoln           10069\n",
              "Volvo              7337\n",
              "MINI               6224\n",
              "Mitsubishi         5933\n",
              "Land               5844\n",
              "Porsche            5785\n",
              "Scion              4389\n",
              "Jaguar             3114\n",
              "FIAT               2613\n",
              "Pontiac            2582\n",
              "Mercury            1594\n",
              "Saturn             1444\n",
              "Maserati           1379\n",
              "HUMMER             1333\n",
              "smart               982\n",
              "Suzuki              484\n",
              "Ferrari             420\n",
              "Saab                367\n",
              "Bentley             367\n",
              "Tesla               352\n",
              "Genesis             209\n",
              "Oldsmobile          172\n",
              "Aston               149\n",
              "Lamborghini         141\n",
              "Rolls-Royce         108\n",
              "Isuzu               105\n",
              "Plymouth             70\n",
              "McLaren              64\n",
              "Lotus                49\n",
              "Alfa                 44\n",
              "Fisker               25\n",
              "AM                   19\n",
              "Freightliner         13\n",
              "Maybach              11\n",
              "Geo                   3\n",
              "Name: Make, dtype: int64"
            ]
          },
          "metadata": {},
          "execution_count": 12
        }
      ]
    },
    {
      "cell_type": "code",
      "source": [
        "#piechart-Top 10 countries car Make\n",
        "Make_names=car.Make.value_counts().index\n",
        "Make_val=car.Make.value_counts().values\n",
        "plt.pie(Make_val[:10],labels=Make_names[:10],autopct='%1.1f%%')"
      ],
      "metadata": {
        "colab": {
          "base_uri": "https://localhost:8080/",
          "height": 769
        },
        "id": "YypwtfZJp15l",
        "outputId": "914fa2a3-e837-444f-9b14-b6e8e070bb9a"
      },
      "execution_count": 13,
      "outputs": [
        {
          "output_type": "execute_result",
          "data": {
            "text/plain": [
              "([<matplotlib.patches.Wedge at 0x7f1e74a53450>,\n",
              "  <matplotlib.patches.Wedge at 0x7f1e74a53a90>,\n",
              "  <matplotlib.patches.Wedge at 0x7f1e74a5e350>,\n",
              "  <matplotlib.patches.Wedge at 0x7f1e74a5ec50>,\n",
              "  <matplotlib.patches.Wedge at 0x7f1e74a697d0>,\n",
              "  <matplotlib.patches.Wedge at 0x7f1e749f4150>,\n",
              "  <matplotlib.patches.Wedge at 0x7f1e749f4710>,\n",
              "  <matplotlib.patches.Wedge at 0x7f1e749f4f90>,\n",
              "  <matplotlib.patches.Wedge at 0x7f1e74a694d0>,\n",
              "  <matplotlib.patches.Wedge at 0x7f1e74a69e10>],\n",
              " [Text(0.910660314551659, 0.6170071243516349, 'Ford'),\n",
              "  Text(-0.18950004763946915, 1.0835542127390947, 'Chevrolet'),\n",
              "  Text(-1.0036642341402107, 0.45017563806557176, 'Toyota'),\n",
              "  Text(-1.0278138084063635, -0.3919167963346394, 'Nissan'),\n",
              "  Text(-0.5852865714804769, -0.931364391226457, 'Honda'),\n",
              "  Text(-0.06234747447566257, -1.0982316661007854, 'Jeep'),\n",
              "  Text(0.39357679598594564, -1.027179295771404, 'Hyundai'),\n",
              "  Text(0.7523006146657603, -0.8025233860601942, 'Dodge'),\n",
              "  Text(0.9791582583300927, -0.5012475487660558, 'GMC'),\n",
              "  Text(1.086392792960758, -0.17248391056247492, 'Kia')],\n",
              " [Text(0.49672380793726845, 0.3365493405554371, '19.0%'),\n",
              "  Text(-0.10336366234880134, 0.5910295705849606, '17.6%'),\n",
              "  Text(-0.547453218621933, 0.2455503480357664, '13.5%'),\n",
              "  Text(-0.5606257136761982, -0.21377279800071236, '11.5%'),\n",
              "  Text(-0.3192472208075328, -0.5080169406689765, '9.0%'),\n",
              "  Text(-0.0340077133503614, -0.5990354542367919, '7.1%'),\n",
              "  Text(0.21467825235597035, -0.5602796158753113, '6.4%'),\n",
              "  Text(0.4103457898176874, -0.4377400287601059, '5.9%'),\n",
              "  Text(0.534086322725505, -0.273407753872394, '5.0%'),\n",
              "  Text(0.5925778870695043, -0.09408213303407721, '5.0%')])"
            ]
          },
          "metadata": {},
          "execution_count": 13
        },
        {
          "output_type": "display_data",
          "data": {
            "text/plain": [
              "<Figure size 432x288 with 1 Axes>"
            ],
            "image/png": "[encoded data removed]"
          },
          "metadata": {}
        }
      ]
    },
    {
      "cell_type": "markdown",
      "source": [
        "Here,Top 10 car make are Firstly Ford 19%,second Chevrolet-17.6% and so on"
      ],
      "metadata": {
        "id": "Zdtbnbt8vrv4"
      }
    },
    {
      "cell_type": "code",
      "source": [
        "cities_val=car['City'].value_counts().values\n",
        "cities_names=car.City.value_counts().index\n",
        "plt.pie(cities_val[:5],labels=cities_names[:5],autopct='%1.1f%%')"
      ],
      "metadata": {
        "colab": {
          "base_uri": "https://localhost:8080/",
          "height": 508
        },
        "id": "ZSrqfXZm3bBf",
        "outputId": "9326e1de-e670-43f9-d759-71a8bfc1c988"
      },
      "execution_count": 14,
      "outputs": [
        {
          "output_type": "execute_result",
          "data": {
            "text/plain": [
              "([<matplotlib.patches.Wedge at 0x7f1e749db890>,\n",
              "  <matplotlib.patches.Wedge at 0x7f1e749dbf10>,\n",
              "  <matplotlib.patches.Wedge at 0x7f1e749e67d0>,\n",
              "  <matplotlib.patches.Wedge at 0x7f1e74971110>,\n",
              "  <matplotlib.patches.Wedge at 0x7f1e74971c50>],\n",
              " [Text(0.4855788145608173, 0.9870223983525964, 'Houston'),\n",
              "  Text(-1.0574594916924633, 0.3029511898466772, 'San Antonio'),\n",
              "  Text(-0.7094987336418092, -0.8406018956442278, 'Louisville'),\n",
              "  Text(0.2836863545612261, -1.0627897497792131, 'Jacksonville'),\n",
              "  Text(0.9995187153100157, -0.45930636588775453, 'Austin')],\n",
              " [Text(0.2648611715786276, 0.5383758536468707, '35.4%'),\n",
              "  Text(-0.5767960863777072, 0.16524610355273298, '20.2%'),\n",
              "  Text(-0.3869993092591686, -0.4585101248968515, '16.3%'),\n",
              "  Text(0.15473801157885056, -0.5797034998795708, '14.3%'),\n",
              "  Text(0.5451920265327358, -0.25053074502968425, '13.7%')])"
            ]
          },
          "metadata": {},
          "execution_count": 14
        },
        {
          "output_type": "display_data",
          "data": {
            "text/plain": [
              "<Figure size 432x288 with 1 Axes>"
            ],
            "image/png": "[encoded data removed]"
          },
          "metadata": {}
        }
      ]
    },
    {
      "cell_type": "markdown",
      "source": [
        "Top 5 cities there are \n",
        "\n",
        "* Houston-35.4%\n",
        "* San ANtonio-20.2%\n",
        "* Louisville-16.3%\n",
        "* Jacksonville-14.3%\n",
        "* Austin-13.7%\n",
        "\n"
      ],
      "metadata": {
        "id": "CPGf6tPewJKl"
      }
    },
    {
      "cell_type": "code",
      "source": [
        "car=car.drop(columns = ['Id','Vin'])"
      ],
      "metadata": {
        "id": "25dUbpj48_gw"
      },
      "execution_count": 15,
      "outputs": []
    },
    {
      "cell_type": "code",
      "source": [
        "numerical_data=car.select_dtypes(exclude=[\"bool\",\"object\"])\n",
        "categorical_data=car.select_dtypes(include=[\"bool\",\"object\"])"
      ],
      "metadata": {
        "id": "yPl_gQI97UKn"
      },
      "execution_count": 16,
      "outputs": []
    },
    {
      "cell_type": "code",
      "source": [
        "#Creating Correlation plot for numerical data\n",
        "corrmat=numerical_data.corr()\n",
        "f,ax=plt.subplots(figsize=(9,9))\n",
        "sns.heatmap(corrmat,vmax=.8,square=True)"
      ],
      "metadata": {
        "colab": {
          "base_uri": "https://localhost:8080/",
          "height": 541
        },
        "id": "G7QOx2Sr7UEX",
        "outputId": "732bcaa0-cbe3-4091-948d-6ebcadcf7f05"
      },
      "execution_count": 17,
      "outputs": [
        {
          "output_type": "execute_result",
          "data": {
            "text/plain": [
              "<matplotlib.axes._subplots.AxesSubplot at 0x7f1e7498d190>"
            ]
          },
          "metadata": {},
          "execution_count": 17
        },
        {
          "output_type": "display_data",
          "data": {
            "text/plain": [
              "<Figure size 648x648 with 2 Axes>"
            ],
            "image/png": "[encoded data removed]"
          },
          "metadata": {
            "needs_background": "light"
          }
        }
      ]
    },
    {
      "cell_type": "markdown",
      "source": [
        "WE can conclude ,there is a strong relation between Price and Mileage"
      ],
      "metadata": {
        "id": "QSMwYm4Oxucn"
      }
    },
    {
      "cell_type": "code",
      "source": [
        "sns.scatterplot(x='Year',y='Price',data=numerical_data)"
      ],
      "metadata": {
        "colab": {
          "base_uri": "https://localhost:8080/",
          "height": 296
        },
        "id": "BWuZHK7U7T93",
        "outputId": "ad012854-e827-42d7-ae9e-c90808f78b69"
      },
      "execution_count": 18,
      "outputs": [
        {
          "output_type": "execute_result",
          "data": {
            "text/plain": [
              "<matplotlib.axes._subplots.AxesSubplot at 0x7f1e748c90d0>"
            ]
          },
          "metadata": {},
          "execution_count": 18
        },
        {
          "output_type": "display_data",
          "data": {
            "text/plain": [
              "<Figure size 432x288 with 1 Axes>"
            ],
            "image/png": "[encoded data removed]"
          },
          "metadata": {
            "needs_background": "light"
          }
        }
      ]
    },
    {
      "cell_type": "markdown",
      "source": [
        "From 2013-2017 Price seems high and there are some outliers detected"
      ],
      "metadata": {
        "id": "ec9JEF5wyA2F"
      }
    },
    {
      "cell_type": "code",
      "source": [
        "for feature in categorical_data:\n",
        "    print('The feature is {} and number of categories are {}'.format(feature,len(car[feature].unique())))"
      ],
      "metadata": {
        "colab": {
          "base_uri": "https://localhost:8080/"
        },
        "id": "YAV_qsDqG9yB",
        "outputId": "23d8ca4d-14d4-4daa-9aa1-e5e2cc332e13"
      },
      "execution_count": 19,
      "outputs": [
        {
          "output_type": "stream",
          "name": "stdout",
          "text": [
            "The feature is City and number of categories are 2599\n",
            "The feature is State and number of categories are 59\n",
            "The feature is Make and number of categories are 58\n",
            "The feature is Model and number of categories are 3105\n"
          ]
        }
      ]
    },
    {
      "cell_type": "code",
      "source": [
        "plt.figure(figsize=(15,8))\n",
        "ax=sns.barplot(x='State',y='Price',data=car)"
      ],
      "metadata": {
        "colab": {
          "base_uri": "https://localhost:8080/",
          "height": 501
        },
        "id": "6VPpadYgDsoc",
        "outputId": "7ac6bda5-f4f2-4c3f-c979-e82a5106bf28"
      },
      "execution_count": 20,
      "outputs": [
        {
          "output_type": "display_data",
          "data": {
            "text/plain": [
              "<Figure size 1080x576 with 1 Axes>"
            ],
            "image/png": "[encoded data removed]"
          },
          "metadata": {
            "needs_background": "light"
          }
        }
      ]
    },
    {
      "cell_type": "code",
      "source": [
        "# Box plot State / Price\n",
        "\n",
        "attrib = 'State'\n",
        "data = pd.concat([car['Price'], car[attrib]], axis=1)\n",
        "f, ax = plt.subplots(figsize=(18, 12))\n",
        "fig = sns.boxplot(x=attrib, y=\"Price\", data=data)\n",
        "fig.axis(ymin=0, ymax=450000);"
      ],
      "metadata": {
        "colab": {
          "base_uri": "https://localhost:8080/",
          "height": 718
        },
        "id": "UC1wrKBONoTM",
        "outputId": "e0e76cce-4494-4e9d-f80a-c3acec4bb65c"
      },
      "execution_count": 21,
      "outputs": [
        {
          "output_type": "display_data",
          "data": {
            "text/plain": [
              "<Figure size 1296x864 with 1 Axes>"
            ],
            "image/png": "[encoded data removed]"
          },
          "metadata": {
            "needs_background": "light"
          }
        }
      ]
    },
    {
      "cell_type": "markdown",
      "source": [
        "Here,AllMost in every state we can visualize the outliers  from >45000 of price"
      ],
      "metadata": {
        "id": "K67SP6W3yspO"
      }
    },
    {
      "cell_type": "code",
      "source": [
        "# Box plot Year / Price\n",
        "\n",
        "attrib = 'Year'\n",
        "data = pd.concat([car['Price'], car[attrib]], axis=1)\n",
        "f, ax = plt.subplots(figsize=(18, 12))\n",
        "fig = sns.boxplot(x=attrib, y=\"Price\", data=data)\n",
        "fig.axis(ymin=0, ymax=450000);"
      ],
      "metadata": {
        "colab": {
          "base_uri": "https://localhost:8080/",
          "height": 718
        },
        "id": "EqQnz-EeN6If",
        "outputId": "e3372007-a911-4285-b0d3-87c8589110fe"
      },
      "execution_count": 22,
      "outputs": [
        {
          "output_type": "display_data",
          "data": {
            "text/plain": [
              "<Figure size 1296x864 with 1 Axes>"
            ],
            "image/png": "[encoded data removed]"
          },
          "metadata": {
            "needs_background": "light"
          }
        }
      ]
    },
    {
      "cell_type": "code",
      "source": [
        "# Box plot Make (Car manufacturers) / Price\n",
        "\n",
        "attrib = 'Make'\n",
        "data = pd.concat([car['Price'], car[attrib]], axis=1)\n",
        "f, ax = plt.subplots(figsize=(20, 12))\n",
        "fig = sns.boxplot(x=attrib, y=\"Price\", data=data)\n",
        "fig.axis(ymin=0, ymax=450000);"
      ],
      "metadata": {
        "colab": {
          "base_uri": "https://localhost:8080/",
          "height": 718
        },
        "id": "GJHAEhQJOOLP",
        "outputId": "9ba47a61-4833-47fe-fe0b-16aedde11cd7"
      },
      "execution_count": 23,
      "outputs": [
        {
          "output_type": "display_data",
          "data": {
            "text/plain": [
              "<Figure size 1440x864 with 1 Axes>"
            ],
            "image/png": "[encoded data removed]"
          },
          "metadata": {
            "needs_background": "light"
          }
        }
      ]
    },
    {
      "cell_type": "code",
      "source": [
        "sns.boxplot(car['Price'])"
      ],
      "metadata": {
        "colab": {
          "base_uri": "https://localhost:8080/",
          "height": 296
        },
        "id": "aG-ofQdmWxjP",
        "outputId": "1d46cbe8-d501-4d3e-bd65-663e56f45683"
      },
      "execution_count": 24,
      "outputs": [
        {
          "output_type": "execute_result",
          "data": {
            "text/plain": [
              "<matplotlib.axes._subplots.AxesSubplot at 0x7f1e741bfc50>"
            ]
          },
          "metadata": {},
          "execution_count": 24
        },
        {
          "output_type": "display_data",
          "data": {
            "text/plain": [
              "<Figure size 432x288 with 1 Axes>"
            ],
            "image/png": "[encoded data removed]"
          },
          "metadata": {
            "needs_background": "light"
          }
        }
      ]
    },
    {
      "cell_type": "markdown",
      "source": [
        "Outliers from >45000 so we should remove it"
      ],
      "metadata": {
        "id": "3WOrDN9Vza9e"
      }
    },
    {
      "cell_type": "code",
      "source": [
        "cols = ['Price', 'Mileage'] # one or more\n",
        "\n",
        "Q1 = car[cols].quantile(0.25)\n",
        "Q3 = car[cols].quantile(0.75)\n",
        "IQR = Q3 - Q1\n",
        "\n",
        "car = car[~((car[cols] < (Q1 - 1.5 * IQR)) |(car[cols] > (Q3 + 1.5 * IQR))).any(axis=1)]\n"
      ],
      "metadata": {
        "id": "FKjN299i9JDu"
      },
      "execution_count": 25,
      "outputs": []
    },
    {
      "cell_type": "code",
      "source": [
        "sns.boxplot(car['Price']) #After removing the outliers"
      ],
      "metadata": {
        "colab": {
          "base_uri": "https://localhost:8080/",
          "height": 296
        },
        "id": "yaijIKDM-Ihf",
        "outputId": "f76f2b49-a9cc-4ba4-84a2-e002c00a4d37"
      },
      "execution_count": 26,
      "outputs": [
        {
          "output_type": "execute_result",
          "data": {
            "text/plain": [
              "<matplotlib.axes._subplots.AxesSubplot at 0x7f1e74332d10>"
            ]
          },
          "metadata": {},
          "execution_count": 26
        },
        {
          "output_type": "display_data",
          "data": {
            "text/plain": [
              "<Figure size 432x288 with 1 Axes>"
            ],
            "image/png": "[encoded data removed]"
          },
          "metadata": {
            "needs_background": "light"
          }
        }
      ]
    },
    {
      "cell_type": "code",
      "source": [
        "sns.boxplot(car['Mileage']) #after removing outliers"
      ],
      "metadata": {
        "colab": {
          "base_uri": "https://localhost:8080/",
          "height": 296
        },
        "id": "k45VW0u1-PPE",
        "outputId": "c401b024-2e47-4e1f-9fe5-ecc036bbac83"
      },
      "execution_count": 27,
      "outputs": [
        {
          "output_type": "execute_result",
          "data": {
            "text/plain": [
              "<matplotlib.axes._subplots.AxesSubplot at 0x7f1e747b53d0>"
            ]
          },
          "metadata": {},
          "execution_count": 27
        },
        {
          "output_type": "display_data",
          "data": {
            "text/plain": [
              "<Figure size 432x288 with 1 Axes>"
            ],
            "image/png": "[encoded data removed]"
          },
          "metadata": {
            "needs_background": "light"
          }
        }
      ]
    },
    {
      "cell_type": "code",
      "source": [
        "# label encoding for categorical data\n",
        "# Import label encoder\n",
        "from sklearn import preprocessing\n",
        " \n",
        "# label_encoder object knows how to understand word labels.\n",
        "label_encoder = preprocessing.LabelEncoder()\n",
        " \n",
        "# Encode labels in columns.\n",
        "car['Make']= label_encoder.fit_transform(car['Make'])\n",
        "car['Model']= label_encoder.fit_transform(car['Model'])\n",
        "car['City']= label_encoder.fit_transform(car['City'])"
      ],
      "metadata": {
        "id": "ebVyvRxvbxCS"
      },
      "execution_count": 28,
      "outputs": []
    },
    {
      "cell_type": "markdown",
      "source": [
        "Checking for a Multicollinearity"
      ],
      "metadata": {
        "id": "KtwG1LEB1kh1"
      }
    },
    {
      "cell_type": "code",
      "source": [
        "from statsmodels.stats.outliers_influence import variance_inflation_factor\n",
        "# the independent variables set\n",
        "idv = car[['Make', 'Model', 'City','Mileage','Year']]"
      ],
      "metadata": {
        "id": "lu2-C-kyn-4O"
      },
      "execution_count": 29,
      "outputs": []
    },
    {
      "cell_type": "code",
      "source": [
        "# VIF dataframe\n",
        "vif_data = pd.DataFrame()\n",
        "vif_data[\"feature\"] = idv.columns\n",
        "  \n",
        "# calculating VIF for each feature\n",
        "vif_data[\"VIF\"] = [variance_inflation_factor(idv.values, i)\n",
        "                          for i in range(len(idv.columns))]\n",
        "  \n",
        "print(vif_data)"
      ],
      "metadata": {
        "colab": {
          "base_uri": "https://localhost:8080/"
        },
        "id": "f0m3MzbhoTy9",
        "outputId": "d078ee00-0370-4097-b007-a15eea332cb8"
      },
      "execution_count": 30,
      "outputs": [
        {
          "output_type": "stream",
          "name": "stdout",
          "text": [
            "   feature        VIF\n",
            "0     Make   3.827387\n",
            "1    Model   3.829262\n",
            "2     City   3.968570\n",
            "3  Mileage   3.170924\n",
            "4     Year  11.472531\n"
          ]
        }
      ]
    },
    {
      "cell_type": "markdown",
      "source": [
        "Since,Year is highly Multicollinear we will remove it."
      ],
      "metadata": {
        "id": "tjmV8Inm1qbD"
      }
    },
    {
      "cell_type": "code",
      "source": [
        "car=car.drop(columns = ['Year','State'])"
      ],
      "metadata": {
        "id": "v2qbCv2NMqG3"
      },
      "execution_count": 31,
      "outputs": []
    },
    {
      "cell_type": "code",
      "source": [
        "car.head()"
      ],
      "metadata": {
        "id": "NndMQ_vPlanM",
        "colab": {
          "base_uri": "https://localhost:8080/",
          "height": 206
        },
        "outputId": "4318c24b-420d-42d7-8ae0-77ba7456257a"
      },
      "execution_count": 32,
      "outputs": [
        {
          "output_type": "execute_result",
          "data": {
            "text/plain": [
              "   Price  Mileage  City  Make  Model\n",
              "0  16472    18681  1085     7    811\n",
              "1  15749    27592  1005     7    813\n",
              "2  16998    13650   217     7    814\n",
              "3  15777    25195  1587     7    813\n",
              "4  16784    22800  1200     7    811"
            ],
            "text/html": [
              "\n",
              "  <div id=\"df-7d5174d1-cb2f-4056-8bf0-808ee2c68d78\">\n",
              "    <div class=\"colab-df-container\">\n",
              "      <div>\n",
              "<style scoped>\n",
              "    .dataframe tbody tr th:only-of-type {\n",
              "        vertical-align: middle;\n",
              "    }\n",
              "\n",
              "    .dataframe tbody tr th {\n",
              "        vertical-align: top;\n",
              "    }\n",
              "\n",
              "    .dataframe thead th {\n",
              "        text-align: right;\n",
              "    }\n",
              "</style>\n",
              "<table border=\"1\" class=\"dataframe\">\n",
              "  <thead>\n",
              "    <tr style=\"text-align: right;\">\n",
              "      <th></th>\n",
              "      <th>Price</th>\n",
              "      <th>Mileage</th>\n",
              "      <th>City</th>\n",
              "      <th>Make</th>\n",
              "      <th>Model</th>\n",
              "    </tr>\n",
              "  </thead>\n",
              "  <tbody>\n",
              "    <tr>\n",
              "      <th>0</th>\n",
              "      <td>16472</td>\n",
              "      <td>18681</td>\n",
              "      <td>1085</td>\n",
              "      <td>7</td>\n",
              "      <td>811</td>\n",
              "    </tr>\n",
              "    <tr>\n",
              "      <th>1</th>\n",
              "      <td>15749</td>\n",
              "      <td>27592</td>\n",
              "      <td>1005</td>\n",
              "      <td>7</td>\n",
              "      <td>813</td>\n",
              "    </tr>\n",
              "    <tr>\n",
              "      <th>2</th>\n",
              "      <td>16998</td>\n",
              "      <td>13650</td>\n",
              "      <td>217</td>\n",
              "      <td>7</td>\n",
              "      <td>814</td>\n",
              "    </tr>\n",
              "    <tr>\n",
              "      <th>3</th>\n",
              "      <td>15777</td>\n",
              "      <td>25195</td>\n",
              "      <td>1587</td>\n",
              "      <td>7</td>\n",
              "      <td>813</td>\n",
              "    </tr>\n",
              "    <tr>\n",
              "      <th>4</th>\n",
              "      <td>16784</td>\n",
              "      <td>22800</td>\n",
              "      <td>1200</td>\n",
              "      <td>7</td>\n",
              "      <td>811</td>\n",
              "    </tr>\n",
              "  </tbody>\n",
              "</table>\n",
              "</div>\n",
              "      <button class=\"colab-df-convert\" onclick=\"convertToInteractive('df-7d5174d1-cb2f-4056-8bf0-808ee2c68d78')\"\n",
              "              title=\"Convert this dataframe to an interactive table.\"\n",
              "              style=\"display:none;\">\n",
              "        \n",
              "  <svg xmlns=\"http://www.w3.org/2000/svg\" height=\"24px\"viewBox=\"0 0 24 24\"\n",
              "       width=\"24px\">\n",
              "    <path d=\"M0 0h24v24H0V0z\" fill=\"none\"/>\n",
              "    <path d=\"M18.56 5.44l.94 2.06.94-2.06 2.06-.94-2.06-.94-.94-2.06-.94 2.06-2.06.94zm-11 1L8.5 8.5l.94-2.06 2.06-.94-2.06-.94L8.5 2.5l-.94 2.06-2.06.94zm10 10l.94 2.06.94-2.06 2.06-.94-2.06-.94-.94-2.06-.94 2.06-2.06.94z\"/><path d=\"M17.41 7.96l-1.37-1.37c-.4-.4-.92-.59-1.43-.59-.52 0-1.04.2-1.43.59L10.3 9.45l-7.72 7.72c-.78.78-.78 2.05 0 2.83L4 21.41c.39.39.9.59 1.41.59.51 0 1.02-.2 1.41-.59l7.78-7.78 2.81-2.81c.8-.78.8-2.07 0-2.86zM5.41 20L4 18.59l7.72-7.72 1.47 1.35L5.41 20z\"/>\n",
              "  </svg>\n",
              "      </button>\n",
              "      \n",
              "  <style>\n",
              "    .colab-df-container {\n",
              "      display:flex;\n",
              "      flex-wrap:wrap;\n",
              "      gap: 12px;\n",
              "    }\n",
              "\n",
              "    .colab-df-convert {\n",
              "      background-color: #E8F0FE;\n",
              "      border: none;\n",
              "      border-radius: 50%;\n",
              "      cursor: pointer;\n",
              "      display: none;\n",
              "      fill: #1967D2;\n",
              "      height: 32px;\n",
              "      padding: 0 0 0 0;\n",
              "      width: 32px;\n",
              "    }\n",
              "\n",
              "    .colab-df-convert:hover {\n",
              "      background-color: #E2EBFA;\n",
              "      box-shadow: 0px 1px 2px rgba(60, 64, 67, 0.3), 0px 1px 3px 1px rgba(60, 64, 67, 0.15);\n",
              "      fill: #174EA6;\n",
              "    }\n",
              "\n",
              "    [theme=dark] .colab-df-convert {\n",
              "      background-color: #3B4455;\n",
              "      fill: #D2E3FC;\n",
              "    }\n",
              "\n",
              "    [theme=dark] .colab-df-convert:hover {\n",
              "      background-color: #434B5C;\n",
              "      box-shadow: 0px 1px 3px 1px rgba(0, 0, 0, 0.15);\n",
              "      filter: drop-shadow(0px 1px 2px rgba(0, 0, 0, 0.3));\n",
              "      fill: #FFFFFF;\n",
              "    }\n",
              "  </style>\n",
              "\n",
              "      <script>\n",
              "        const buttonEl =\n",
              "          document.querySelector('#df-7d5174d1-cb2f-4056-8bf0-808ee2c68d78 button.colab-df-convert');\n",
              "        buttonEl.style.display =\n",
              "          google.colab.kernel.accessAllowed ? 'block' : 'none';\n",
              "\n",
              "        async function convertToInteractive(key) {\n",
              "          const element = document.querySelector('#df-7d5174d1-cb2f-4056-8bf0-808ee2c68d78');\n",
              "          const dataTable =\n",
              "            await google.colab.kernel.invokeFunction('convertToInteractive',\n",
              "                                                     [key], {});\n",
              "          if (!dataTable) return;\n",
              "\n",
              "          const docLinkHtml = 'Like what you see? Visit the ' +\n",
              "            '<a target=\"_blank\" href=https://colab.research.google.com/notebooks/data_table.ipynb>data table notebook</a>'\n",
              "            + ' to learn more about interactive tables.';\n",
              "          element.innerHTML = '';\n",
              "          dataTable['output_type'] = 'display_data';\n",
              "          await google.colab.output.renderOutput(dataTable, element);\n",
              "          const docLink = document.createElement('div');\n",
              "          docLink.innerHTML = docLinkHtml;\n",
              "          element.appendChild(docLink);\n",
              "        }\n",
              "      </script>\n",
              "    </div>\n",
              "  </div>\n",
              "  "
            ]
          },
          "metadata": {},
          "execution_count": 32
        }
      ]
    },
    {
      "cell_type": "code",
      "source": [
        "#Spliting the data in feature variable & target variable\n",
        "X = car.drop('Price',axis=1)\n",
        "y = car['Price']"
      ],
      "metadata": {
        "id": "R4_iKkF0NI7P"
      },
      "execution_count": 33,
      "outputs": []
    },
    {
      "cell_type": "markdown",
      "source": [
        "Splitting the data for model building"
      ],
      "metadata": {
        "id": "1NDEyx3k14Yq"
      }
    },
    {
      "cell_type": "code",
      "source": [
        "from sklearn.model_selection import train_test_split\n",
        "X_train,X_test,y_train,y_test = train_test_split(X,y,test_size = 0.3,random_state=0)\n",
        "X_train.shape,X_test.shape"
      ],
      "metadata": {
        "colab": {
          "base_uri": "https://localhost:8080/"
        },
        "id": "5tFuUQIvNY4F",
        "outputId": "fb826470-858c-4bb5-f0e3-fc7f24f4e31a"
      },
      "execution_count": 34,
      "outputs": [
        {
          "output_type": "execute_result",
          "data": {
            "text/plain": [
              "((790064, 4), (338599, 4))"
            ]
          },
          "metadata": {},
          "execution_count": 34
        }
      ]
    },
    {
      "cell_type": "code",
      "source": [
        "from sklearn.model_selection import train_test_split\n",
        "X_trainr,X_testr,y_trainr,y_testr = train_test_split(X,y,test_size = 0.3,random_state=0)\n",
        "X_trainr.shape,X_testr.shape"
      ],
      "metadata": {
        "colab": {
          "base_uri": "https://localhost:8080/"
        },
        "id": "-gOx3HKSpINv",
        "outputId": "ef6e2527-1e72-44db-e6d8-5813f5f4f812"
      },
      "execution_count": 35,
      "outputs": [
        {
          "output_type": "execute_result",
          "data": {
            "text/plain": [
              "((790064, 4), (338599, 4))"
            ]
          },
          "metadata": {},
          "execution_count": 35
        }
      ]
    },
    {
      "cell_type": "code",
      "source": [
        "#Feature Scaling\n",
        "from sklearn.preprocessing import StandardScaler\n",
        "sc_X = StandardScaler()\n",
        "X_trainr = sc_X.fit_transform(X_trainr)\n",
        "X_testr = sc_X.transform(X_testr)"
      ],
      "metadata": {
        "id": "KKhrV47Lwn_n"
      },
      "execution_count": 36,
      "outputs": []
    },
    {
      "cell_type": "markdown",
      "source": [
        "Model building\n",
        "\n",
        "\n",
        "1.Linear Regression\n"
      ],
      "metadata": {
        "id": "r3XJYgNuFYQy"
      }
    },
    {
      "cell_type": "code",
      "source": [
        "from sklearn.linear_model import LinearRegression\n",
        "lrr=LinearRegression()\n",
        "lrr.fit(X_trainr, y_trainr)"
      ],
      "metadata": {
        "colab": {
          "base_uri": "https://localhost:8080/"
        },
        "id": "CdwNTXdNFXUf",
        "outputId": "613d1e34-76bc-4549-f8eb-e50b6da0e44f"
      },
      "execution_count": 37,
      "outputs": [
        {
          "output_type": "execute_result",
          "data": {
            "text/plain": [
              "LinearRegression()"
            ]
          },
          "metadata": {},
          "execution_count": 37
        }
      ]
    },
    {
      "cell_type": "code",
      "source": [
        "y_pred_lrr = lrr.predict(X_testr)"
      ],
      "metadata": {
        "id": "-NSwY8jHF5Ao"
      },
      "execution_count": 38,
      "outputs": []
    },
    {
      "cell_type": "code",
      "source": [
        "#Error Metrics\n",
        "from sklearn.metrics import mean_squared_error\n",
        "from math import sqrt\n",
        "\n",
        "mse = mean_squared_error(y_testr, y_pred_lrr)\n",
        "print(mse)\n",
        "rms = sqrt(mean_squared_error(y_testr, y_pred_lrr))\n",
        "print(rms)"
      ],
      "metadata": {
        "colab": {
          "base_uri": "https://localhost:8080/"
        },
        "id": "1jbafq0KGA-s",
        "outputId": "0cb03c85-a8af-45a4-86d9-a20b57d997ae"
      },
      "execution_count": 39,
      "outputs": [
        {
          "output_type": "stream",
          "name": "stdout",
          "text": [
            "60394333.949575104\n",
            "7771.379153636445\n"
          ]
        }
      ]
    },
    {
      "cell_type": "code",
      "source": [
        "#R2 Score\n",
        "from sklearn.metrics import r2_score\n",
        "linearReg=r2_score(y_testr, y_pred_lrr)\n",
        "print(r2_score(y_testr, y_pred_lrr))"
      ],
      "metadata": {
        "colab": {
          "base_uri": "https://localhost:8080/"
        },
        "id": "8deBMIwYGLI1",
        "outputId": "9f284911-ea5e-4dc0-e429-0c32eb504548"
      },
      "execution_count": 40,
      "outputs": [
        {
          "output_type": "stream",
          "name": "stdout",
          "text": [
            "0.2516910234270613\n"
          ]
        }
      ]
    },
    {
      "cell_type": "markdown",
      "source": [
        "2.Gradient Boosting Regressor"
      ],
      "metadata": {
        "id": "y_l5ZwrDGzDI"
      }
    },
    {
      "cell_type": "code",
      "source": [
        "from sklearn.ensemble import GradientBoostingRegressor\n",
        "gbr = GradientBoostingRegressor()\n",
        "gbr.fit(X_trainr, y_trainr)"
      ],
      "metadata": {
        "colab": {
          "base_uri": "https://localhost:8080/"
        },
        "id": "X94YjJxjGySg",
        "outputId": "4c52ab23-5eac-43fb-8c43-428639da8bba"
      },
      "execution_count": 41,
      "outputs": [
        {
          "output_type": "execute_result",
          "data": {
            "text/plain": [
              "GradientBoostingRegressor()"
            ]
          },
          "metadata": {},
          "execution_count": 41
        }
      ]
    },
    {
      "cell_type": "code",
      "source": [
        "#Predict the results\n",
        "y_pred_GBR = gbr.predict(X_testr)"
      ],
      "metadata": {
        "id": "_TM4gph1HWBO"
      },
      "execution_count": 42,
      "outputs": []
    },
    {
      "cell_type": "code",
      "source": [
        "#Error Metrics\n",
        "mse = mean_squared_error(y_testr, y_pred_GBR)\n",
        "print(mse)\n",
        "rms = sqrt(mean_squared_error(y_testr, y_pred_GBR))\n",
        "print(rms)"
      ],
      "metadata": {
        "colab": {
          "base_uri": "https://localhost:8080/"
        },
        "id": "u8EF5dnZHeOJ",
        "outputId": "df2a302b-a4e0-4283-fd3d-19b588b5d802"
      },
      "execution_count": 43,
      "outputs": [
        {
          "output_type": "stream",
          "name": "stdout",
          "text": [
            "30730693.523418177\n",
            "5543.527173507691\n"
          ]
        }
      ]
    },
    {
      "cell_type": "code",
      "source": [
        "#R2 Score\n",
        "from sklearn.metrics import r2_score\n",
        "GradientBoosting=r2_score(y_testr, y_pred_GBR)\n",
        "print(r2_score(y_testr, y_pred_GBR))"
      ],
      "metadata": {
        "colab": {
          "base_uri": "https://localhost:8080/"
        },
        "id": "7dXEWh8IHjZS",
        "outputId": "6d3c3f0e-0839-4a05-cca4-3d44b37021c4"
      },
      "execution_count": 44,
      "outputs": [
        {
          "output_type": "stream",
          "name": "stdout",
          "text": [
            "0.6192349130121091\n"
          ]
        }
      ]
    },
    {
      "cell_type": "markdown",
      "source": [
        "3.Random Forest Regressor   \n"
      ],
      "metadata": {
        "id": "5WLRrJ9i1_Ty"
      }
    },
    {
      "cell_type": "code",
      "source": [
        "from sklearn.ensemble import RandomForestRegressor\n",
        "rf = RandomForestRegressor(n_estimators=100)\n",
        "rf.fit(X_trainr, y_trainr)"
      ],
      "metadata": {
        "id": "B_eRsCU9NpDO",
        "colab": {
          "base_uri": "https://localhost:8080/"
        },
        "outputId": "6ed1b4d4-3678-477f-ef2d-1f0792884f9c"
      },
      "execution_count": 45,
      "outputs": [
        {
          "output_type": "execute_result",
          "data": {
            "text/plain": [
              "RandomForestRegressor()"
            ]
          },
          "metadata": {},
          "execution_count": 45
        }
      ]
    },
    {
      "cell_type": "markdown",
      "source": [
        "Feature Importances using Random Forest"
      ],
      "metadata": {
        "id": "8kizPUYe2VS2"
      }
    },
    {
      "cell_type": "code",
      "source": [
        "rf.feature_importances_"
      ],
      "metadata": {
        "id": "MtgQLi2cRf6a",
        "colab": {
          "base_uri": "https://localhost:8080/"
        },
        "outputId": "ebf50e29-eb66-4339-db69-5a3f8d55f790"
      },
      "execution_count": 46,
      "outputs": [
        {
          "output_type": "execute_result",
          "data": {
            "text/plain": [
              "array([0.30038684, 0.05975997, 0.18729532, 0.45255787])"
            ]
          },
          "metadata": {},
          "execution_count": 46
        }
      ]
    },
    {
      "cell_type": "code",
      "source": [
        "f_i = list(zip(X.columns,rf.feature_importances_))\n",
        "f_i.sort(key = lambda x : x[1])\n",
        "plt.barh([x[0] for x in f_i],[x[1] for x in f_i])\n",
        "\n",
        "plt.show()"
      ],
      "metadata": {
        "id": "Wal8bfDXTUxS",
        "colab": {
          "base_uri": "https://localhost:8080/",
          "height": 265
        },
        "outputId": "8cc54d6b-ab07-41ca-95c9-e208f4a60b6f"
      },
      "execution_count": 47,
      "outputs": [
        {
          "output_type": "display_data",
          "data": {
            "text/plain": [
              "<Figure size 432x288 with 1 Axes>"
            ],
            "image/png": "[encoded data removed]"
          },
          "metadata": {
            "needs_background": "light"
          }
        }
      ]
    },
    {
      "cell_type": "code",
      "source": [
        "#Predict the results\n",
        "y_pred = rf.predict(X_testr)"
      ],
      "metadata": {
        "id": "_UHZkd5sil1P"
      },
      "execution_count": 48,
      "outputs": []
    },
    {
      "cell_type": "code",
      "source": [
        "#Error Metrics\n",
        "mse = mean_squared_error(y_testr, y_pred)\n",
        "print(mse)\n",
        "rms = sqrt(mean_squared_error(y_testr, y_pred))\n",
        "print(rms)"
      ],
      "metadata": {
        "id": "93q8yP1bqmTy",
        "colab": {
          "base_uri": "https://localhost:8080/"
        },
        "outputId": "baced8c0-fd69-45f2-bea6-3e92a8ac8a65"
      },
      "execution_count": 49,
      "outputs": [
        {
          "output_type": "stream",
          "name": "stdout",
          "text": [
            "12206108.903545626\n",
            "3493.724216870248\n"
          ]
        }
      ]
    },
    {
      "cell_type": "code",
      "source": [
        "#R2 Score\n",
        "RandomForest=r2_score(y_testr, y_pred)\n",
        "print(r2_score(y_testr, y_pred))"
      ],
      "metadata": {
        "id": "uXFVXQuWq48_",
        "colab": {
          "base_uri": "https://localhost:8080/"
        },
        "outputId": "f60408ce-73e3-4f46-9754-0593ac6723ff"
      },
      "execution_count": 50,
      "outputs": [
        {
          "output_type": "stream",
          "name": "stdout",
          "text": [
            "0.8487616260628648\n"
          ]
        }
      ]
    },
    {
      "cell_type": "markdown",
      "source": [
        "4.XGBoost Regressor"
      ],
      "metadata": {
        "id": "uKVfouwT2IjY"
      }
    },
    {
      "cell_type": "code",
      "source": [
        "from xgboost import XGBRegressor"
      ],
      "metadata": {
        "id": "3L3bdk3YrfCg"
      },
      "execution_count": 51,
      "outputs": []
    },
    {
      "cell_type": "code",
      "source": [
        "XGB = XGBRegressor(objective ='reg:linear', verbosity = 0, silent=True, random_state=42,n_estimators=1000, learning_rate=0.05, n_jobs=4)\n",
        "XGB.fit(X_trainr, y_trainr)"
      ],
      "metadata": {
        "id": "VIim8zEPvEWR",
        "colab": {
          "base_uri": "https://localhost:8080/"
        },
        "outputId": "5269f080-9686-4b07-827a-ff964c40f193"
      },
      "execution_count": 52,
      "outputs": [
        {
          "output_type": "execute_result",
          "data": {
            "text/plain": [
              "XGBRegressor(learning_rate=0.05, n_estimators=1000, n_jobs=4, random_state=42,\n",
              "             silent=True, verbosity=0)"
            ]
          },
          "metadata": {},
          "execution_count": 52
        }
      ]
    },
    {
      "cell_type": "code",
      "source": [
        "y_predxg = XGB.predict(X_testr)"
      ],
      "metadata": {
        "id": "VWY_YA3B0l5I"
      },
      "execution_count": 53,
      "outputs": []
    },
    {
      "cell_type": "code",
      "source": [
        "#Error Metrics\n",
        "mse = mean_squared_error(y_testr, y_predxg)\n",
        "print(mse)\n",
        "rms = sqrt(mean_squared_error(y_testr, y_predxg))\n",
        "print(rms)"
      ],
      "metadata": {
        "id": "welR8EC-0s_l",
        "colab": {
          "base_uri": "https://localhost:8080/"
        },
        "outputId": "432f743a-b622-4b42-e9f2-d3f40094e602"
      },
      "execution_count": 54,
      "outputs": [
        {
          "output_type": "stream",
          "name": "stdout",
          "text": [
            "17566249.52573367\n",
            "4191.210985590402\n"
          ]
        }
      ]
    },
    {
      "cell_type": "code",
      "source": [
        "#R2 Score\n",
        "XGBoostRegressor=r2_score(y_testr, y_predxg)\n",
        "print(r2_score(y_testr, y_predxg))"
      ],
      "metadata": {
        "id": "JNTMisq40yk5",
        "colab": {
          "base_uri": "https://localhost:8080/"
        },
        "outputId": "db6a8631-f3cc-48ea-8337-4b7916fc1dd6"
      },
      "execution_count": 55,
      "outputs": [
        {
          "output_type": "stream",
          "name": "stdout",
          "text": [
            "0.7823474265681655\n"
          ]
        }
      ]
    },
    {
      "cell_type": "markdown",
      "source": [
        "5.Light BGM"
      ],
      "metadata": {
        "id": "PAorfnB8Nuwy"
      }
    },
    {
      "cell_type": "code",
      "source": [
        " import lightgbm as ltb"
      ],
      "metadata": {
        "id": "T1elq8d-Ntk3"
      },
      "execution_count": 56,
      "outputs": []
    },
    {
      "cell_type": "code",
      "source": [
        "LGB=ltb.LGBMRegressor()"
      ],
      "metadata": {
        "id": "Om2EMB1iOtdW"
      },
      "execution_count": 57,
      "outputs": []
    },
    {
      "cell_type": "code",
      "source": [
        "LGB.fit(X_trainr, y_trainr)"
      ],
      "metadata": {
        "id": "kP1eMpGTO_Zc",
        "colab": {
          "base_uri": "https://localhost:8080/"
        },
        "outputId": "292720d9-64af-4c89-ecd0-029315fe0123"
      },
      "execution_count": 58,
      "outputs": [
        {
          "output_type": "execute_result",
          "data": {
            "text/plain": [
              "LGBMRegressor()"
            ]
          },
          "metadata": {},
          "execution_count": 58
        }
      ]
    },
    {
      "cell_type": "code",
      "source": [
        "y_predlgb = LGB.predict(X_testr)"
      ],
      "metadata": {
        "id": "lOcS3tJAPYco"
      },
      "execution_count": 59,
      "outputs": []
    },
    {
      "cell_type": "code",
      "source": [
        "#Error Metrics\n",
        "mse = mean_squared_error(y_testr, y_predlgb)\n",
        "print(mse)\n",
        "rms = sqrt(mean_squared_error(y_testr, y_predlgb))\n",
        "print(rms)"
      ],
      "metadata": {
        "id": "lHZZAb-CPpcO",
        "colab": {
          "base_uri": "https://localhost:8080/"
        },
        "outputId": "c162e758-2ae5-41b0-ebda-e440f9a826c2"
      },
      "execution_count": 60,
      "outputs": [
        {
          "output_type": "stream",
          "name": "stdout",
          "text": [
            "17811082.87272845\n",
            "4220.317863944427\n"
          ]
        }
      ]
    },
    {
      "cell_type": "code",
      "source": [
        "#R2 Score\n",
        "LightgbmRegressor=r2_score(y_testr, y_predlgb)\n",
        "print(r2_score(y_testr, y_predlgb))"
      ],
      "metadata": {
        "id": "LlZeaImRPuBk",
        "colab": {
          "base_uri": "https://localhost:8080/"
        },
        "outputId": "1b6eaccc-d455-472a-d08d-b26eef493ae1"
      },
      "execution_count": 61,
      "outputs": [
        {
          "output_type": "stream",
          "name": "stdout",
          "text": [
            "0.7793138474335142\n"
          ]
        }
      ]
    },
    {
      "cell_type": "markdown",
      "source": [
        "6.Linear Regression with Kmeans "
      ],
      "metadata": {
        "id": "Hvbl3PHtQEur"
      }
    },
    {
      "cell_type": "code",
      "source": [
        "from sklearn.cluster import KMeans"
      ],
      "metadata": {
        "id": "Yrs_ASWjQLQS"
      },
      "execution_count": 62,
      "outputs": []
    },
    {
      "cell_type": "code",
      "source": [
        "sse = {}\n",
        "\n",
        "# Fit KMeans and calculate SSE for each k\n",
        "for k in range(1, 21):\n",
        "  \n",
        "    # Initialize KMeans with k clusters\n",
        "    kmeans = KMeans(n_clusters=k, random_state=1)\n",
        "    \n",
        "    # Fit KMeans on the normalized dataset\n",
        "    kmeans.fit(X_train)\n",
        "    \n",
        "    # Assign sum of squared distances to k element of dictionary\n",
        "    sse[k] = kmeans.inertia_"
      ],
      "metadata": {
        "id": "JWLlKRszSc4r"
      },
      "execution_count": 63,
      "outputs": []
    },
    {
      "cell_type": "code",
      "source": [
        "plt.figure(figsize=(12,8))\n",
        "\n",
        "plt.title('The Elbow Method')\n",
        "plt.xlabel('k'); \n",
        "plt.ylabel('Sum of squared errors')\n",
        "sns.pointplot(x=list(sse.keys()), y=list(sse.values()))\n",
        "plt.show()"
      ],
      "metadata": {
        "id": "nvZPwDkVYYd3",
        "colab": {
          "base_uri": "https://localhost:8080/",
          "height": 513
        },
        "outputId": "da135737-ba57-40e2-e2b9-82d134b3b814"
      },
      "execution_count": 64,
      "outputs": [
        {
          "output_type": "display_data",
          "data": {
            "text/plain": [
              "<Figure size 864x576 with 1 Axes>"
            ],
            "image/png": "[encoded data removed]"
          },
          "metadata": {
            "needs_background": "light"
          }
        }
      ]
    },
    {
      "cell_type": "code",
      "source": [
        "#Let us take k = 3 first\n",
        "\n",
        "kmeans = KMeans(n_clusters=3, random_state=1)\n",
        "\n",
        "# Compute k-means clustering on pre-processed data\n",
        "kmeans.fit(X_train)\n",
        "\n",
        "# Extract cluster labels from labels_ attribute\n",
        "cluster_labels = kmeans.labels_"
      ],
      "metadata": {
        "id": "AYjia05mYgBd"
      },
      "execution_count": 65,
      "outputs": []
    },
    {
      "cell_type": "code",
      "source": [
        "train_cluster = kmeans.predict(X_train)"
      ],
      "metadata": {
        "id": "cbJrXBrgZG-b"
      },
      "execution_count": 66,
      "outputs": []
    },
    {
      "cell_type": "code",
      "source": [
        "train_df = pd.DataFrame(X_train,columns=['Mileage','City','Make', 'Model'])"
      ],
      "metadata": {
        "id": "64XmVmKMZdMZ"
      },
      "execution_count": 67,
      "outputs": []
    },
    {
      "cell_type": "code",
      "source": [
        "train_df.head()"
      ],
      "metadata": {
        "id": "kPSMzJOTm0XE",
        "colab": {
          "base_uri": "https://localhost:8080/",
          "height": 206
        },
        "outputId": "24ecf305-ccfd-48f9-ca2f-9c97168803cc"
      },
      "execution_count": 68,
      "outputs": [
        {
          "output_type": "execute_result",
          "data": {
            "text/plain": [
              "         Mileage  City  Make  Model\n",
              "906987     42193  1910    26   2294\n",
              "443917     21744  1905     9    701\n",
              "1636       31953   493    20    214\n",
              "640356     26717   867    14   1631\n",
              "1146053    27434  2266    49   1914"
            ],
            "text/html": [
              "\n",
              "  <div id=\"df-f5db67d1-a0ed-45fd-bc71-ab83cefb96ac\">\n",
              "    <div class=\"colab-df-container\">\n",
              "      <div>\n",
              "<style scoped>\n",
              "    .dataframe tbody tr th:only-of-type {\n",
              "        vertical-align: middle;\n",
              "    }\n",
              "\n",
              "    .dataframe tbody tr th {\n",
              "        vertical-align: top;\n",
              "    }\n",
              "\n",
              "    .dataframe thead th {\n",
              "        text-align: right;\n",
              "    }\n",
              "</style>\n",
              "<table border=\"1\" class=\"dataframe\">\n",
              "  <thead>\n",
              "    <tr style=\"text-align: right;\">\n",
              "      <th></th>\n",
              "      <th>Mileage</th>\n",
              "      <th>City</th>\n",
              "      <th>Make</th>\n",
              "      <th>Model</th>\n",
              "    </tr>\n",
              "  </thead>\n",
              "  <tbody>\n",
              "    <tr>\n",
              "      <th>906987</th>\n",
              "      <td>42193</td>\n",
              "      <td>1910</td>\n",
              "      <td>26</td>\n",
              "      <td>2294</td>\n",
              "    </tr>\n",
              "    <tr>\n",
              "      <th>443917</th>\n",
              "      <td>21744</td>\n",
              "      <td>1905</td>\n",
              "      <td>9</td>\n",
              "      <td>701</td>\n",
              "    </tr>\n",
              "    <tr>\n",
              "      <th>1636</th>\n",
              "      <td>31953</td>\n",
              "      <td>493</td>\n",
              "      <td>20</td>\n",
              "      <td>214</td>\n",
              "    </tr>\n",
              "    <tr>\n",
              "      <th>640356</th>\n",
              "      <td>26717</td>\n",
              "      <td>867</td>\n",
              "      <td>14</td>\n",
              "      <td>1631</td>\n",
              "    </tr>\n",
              "    <tr>\n",
              "      <th>1146053</th>\n",
              "      <td>27434</td>\n",
              "      <td>2266</td>\n",
              "      <td>49</td>\n",
              "      <td>1914</td>\n",
              "    </tr>\n",
              "  </tbody>\n",
              "</table>\n",
              "</div>\n",
              "      <button class=\"colab-df-convert\" onclick=\"convertToInteractive('df-f5db67d1-a0ed-45fd-bc71-ab83cefb96ac')\"\n",
              "              title=\"Convert this dataframe to an interactive table.\"\n",
              "              style=\"display:none;\">\n",
              "        \n",
              "  <svg xmlns=\"http://www.w3.org/2000/svg\" height=\"24px\"viewBox=\"0 0 24 24\"\n",
              "       width=\"24px\">\n",
              "    <path d=\"M0 0h24v24H0V0z\" fill=\"none\"/>\n",
              "    <path d=\"M18.56 5.44l.94 2.06.94-2.06 2.06-.94-2.06-.94-.94-2.06-.94 2.06-2.06.94zm-11 1L8.5 8.5l.94-2.06 2.06-.94-2.06-.94L8.5 2.5l-.94 2.06-2.06.94zm10 10l.94 2.06.94-2.06 2.06-.94-2.06-.94-.94-2.06-.94 2.06-2.06.94z\"/><path d=\"M17.41 7.96l-1.37-1.37c-.4-.4-.92-.59-1.43-.59-.52 0-1.04.2-1.43.59L10.3 9.45l-7.72 7.72c-.78.78-.78 2.05 0 2.83L4 21.41c.39.39.9.59 1.41.59.51 0 1.02-.2 1.41-.59l7.78-7.78 2.81-2.81c.8-.78.8-2.07 0-2.86zM5.41 20L4 18.59l7.72-7.72 1.47 1.35L5.41 20z\"/>\n",
              "  </svg>\n",
              "      </button>\n",
              "      \n",
              "  <style>\n",
              "    .colab-df-container {\n",
              "      display:flex;\n",
              "      flex-wrap:wrap;\n",
              "      gap: 12px;\n",
              "    }\n",
              "\n",
              "    .colab-df-convert {\n",
              "      background-color: #E8F0FE;\n",
              "      border: none;\n",
              "      border-radius: 50%;\n",
              "      cursor: pointer;\n",
              "      display: none;\n",
              "      fill: #1967D2;\n",
              "      height: 32px;\n",
              "      padding: 0 0 0 0;\n",
              "      width: 32px;\n",
              "    }\n",
              "\n",
              "    .colab-df-convert:hover {\n",
              "      background-color: #E2EBFA;\n",
              "      box-shadow: 0px 1px 2px rgba(60, 64, 67, 0.3), 0px 1px 3px 1px rgba(60, 64, 67, 0.15);\n",
              "      fill: #174EA6;\n",
              "    }\n",
              "\n",
              "    [theme=dark] .colab-df-convert {\n",
              "      background-color: #3B4455;\n",
              "      fill: #D2E3FC;\n",
              "    }\n",
              "\n",
              "    [theme=dark] .colab-df-convert:hover {\n",
              "      background-color: #434B5C;\n",
              "      box-shadow: 0px 1px 3px 1px rgba(0, 0, 0, 0.15);\n",
              "      filter: drop-shadow(0px 1px 2px rgba(0, 0, 0, 0.3));\n",
              "      fill: #FFFFFF;\n",
              "    }\n",
              "  </style>\n",
              "\n",
              "      <script>\n",
              "        const buttonEl =\n",
              "          document.querySelector('#df-f5db67d1-a0ed-45fd-bc71-ab83cefb96ac button.colab-df-convert');\n",
              "        buttonEl.style.display =\n",
              "          google.colab.kernel.accessAllowed ? 'block' : 'none';\n",
              "\n",
              "        async function convertToInteractive(key) {\n",
              "          const element = document.querySelector('#df-f5db67d1-a0ed-45fd-bc71-ab83cefb96ac');\n",
              "          const dataTable =\n",
              "            await google.colab.kernel.invokeFunction('convertToInteractive',\n",
              "                                                     [key], {});\n",
              "          if (!dataTable) return;\n",
              "\n",
              "          const docLinkHtml = 'Like what you see? Visit the ' +\n",
              "            '<a target=\"_blank\" href=https://colab.research.google.com/notebooks/data_table.ipynb>data table notebook</a>'\n",
              "            + ' to learn more about interactive tables.';\n",
              "          element.innerHTML = '';\n",
              "          dataTable['output_type'] = 'display_data';\n",
              "          await google.colab.output.renderOutput(dataTable, element);\n",
              "          const docLink = document.createElement('div');\n",
              "          docLink.innerHTML = docLinkHtml;\n",
              "          element.appendChild(docLink);\n",
              "        }\n",
              "      </script>\n",
              "    </div>\n",
              "  </div>\n",
              "  "
            ]
          },
          "metadata": {},
          "execution_count": 68
        }
      ]
    },
    {
      "cell_type": "code",
      "source": [
        "# Add the target and predicted clusters to our training DataFrame\n",
        "train_df.insert(4,'Price',y_train) \n",
        "train_df.insert(5,'cluster',train_cluster) \n",
        "n_clusters=3\n",
        "train_clusters_df = []\n",
        "for i in range(n_clusters):\n",
        "    train_clusters_df.append(train_df[train_df['cluster']==i])"
      ],
      "metadata": {
        "id": "s7KcIcoNb_F9"
      },
      "execution_count": 69,
      "outputs": []
    },
    {
      "cell_type": "code",
      "source": [
        "n_clusters=3\n",
        "cluster_lr = []"
      ],
      "metadata": {
        "id": "7qMbuEjgca_-"
      },
      "execution_count": 70,
      "outputs": []
    },
    {
      "cell_type": "code",
      "source": [
        "from sklearn.linear_model import LinearRegression\n",
        "model_lr=LinearRegression()\n"
      ],
      "metadata": {
        "id": "Ln4fQyhMcwKq"
      },
      "execution_count": 71,
      "outputs": []
    },
    {
      "cell_type": "code",
      "source": [
        "for i in range(n_clusters):\n",
        "    cluster_X = np.array((train_clusters_df[i])[['Mileage','City','Make', 'Model']])\n",
        "    cluster_Y = (train_clusters_df[i])['Price'].values\n",
        "    cluster_lr.append(model_lr.fit(cluster_X, cluster_Y))"
      ],
      "metadata": {
        "id": "mH53DRL-efAU"
      },
      "execution_count": 72,
      "outputs": []
    },
    {
      "cell_type": "code",
      "source": [
        "def regression_function(arr, kmeans, cluster_lr):\n",
        "    result = []\n",
        "    clusters_pred = kmeans.predict(arr)\n",
        "    for i,data in enumerate(arr):\n",
        "          result.append(((cluster_lr[clusters_pred[i]]).predict([data]))[0])\n",
        "    return result,clusters_pred"
      ],
      "metadata": {
        "id": "LRzKWTNmZ2G5"
      },
      "execution_count": 73,
      "outputs": []
    },
    {
      "cell_type": "code",
      "source": [
        "# calculating Y value and cluster\n",
        "y_lr_k_means_pred, y_clusters = regression_function(X_test.to_numpy(), kmeans, cluster_lr)"
      ],
      "metadata": {
        "id": "-VGBMpzjazOs"
      },
      "execution_count": 74,
      "outputs": []
    },
    {
      "cell_type": "code",
      "source": [
        "for i in range(n_clusters):\n",
        "  subset = []\n",
        "  for count,row in enumerate(X_test):\n",
        "      if(y_clusters[count]==i):\n",
        "        subset.append(row)"
      ],
      "metadata": {
        "id": "7_Qdq_qYrBvx"
      },
      "execution_count": 75,
      "outputs": []
    },
    {
      "cell_type": "code",
      "source": [
        "import pandas as pd\n",
        "\n",
        "result_df = pd.DataFrame(X_test,columns=['Mileage','City','Make', 'Model'])\n",
        "result_df['Y true value'] =  y_test\n",
        "result_df['Y lr + K means'] = y_lr_k_means_pred\n",
        "result_df['cluster'] = y_clusters\n",
        "result_df.head()"
      ],
      "metadata": {
        "colab": {
          "base_uri": "https://localhost:8080/",
          "height": 206
        },
        "id": "jcqHg0sorNcZ",
        "outputId": "045c2eae-05f8-4c20-fe7f-894dbe3ded6b"
      },
      "execution_count": 76,
      "outputs": [
        {
          "output_type": "execute_result",
          "data": {
            "text/plain": [
              "         Mileage  City  Make  Model  Y true value  Y lr + K means  cluster\n",
              "181367    143331  2299     1   1465          7784    10388.657239        2\n",
              "544724     26584  2345    10   1732         21800    21561.919736        1\n",
              "1098882    41738   332    46   1072         19985    17451.331649        0\n",
              "246504    122659   716    33   1584          6450    11061.964542        2\n",
              "886654     94173  1246    25   2585         23970    15684.309756        2"
            ],
            "text/html": [
              "\n",
              "  <div id=\"df-03684987-faf2-4813-b3a1-f7ca20278cd7\">\n",
              "    <div class=\"colab-df-container\">\n",
              "      <div>\n",
              "<style scoped>\n",
              "    .dataframe tbody tr th:only-of-type {\n",
              "        vertical-align: middle;\n",
              "    }\n",
              "\n",
              "    .dataframe tbody tr th {\n",
              "        vertical-align: top;\n",
              "    }\n",
              "\n",
              "    .dataframe thead th {\n",
              "        text-align: right;\n",
              "    }\n",
              "</style>\n",
              "<table border=\"1\" class=\"dataframe\">\n",
              "  <thead>\n",
              "    <tr style=\"text-align: right;\">\n",
              "      <th></th>\n",
              "      <th>Mileage</th>\n",
              "      <th>City</th>\n",
              "      <th>Make</th>\n",
              "      <th>Model</th>\n",
              "      <th>Y true value</th>\n",
              "      <th>Y lr + K means</th>\n",
              "      <th>cluster</th>\n",
              "    </tr>\n",
              "  </thead>\n",
              "  <tbody>\n",
              "    <tr>\n",
              "      <th>181367</th>\n",
              "      <td>143331</td>\n",
              "      <td>2299</td>\n",
              "      <td>1</td>\n",
              "      <td>1465</td>\n",
              "      <td>7784</td>\n",
              "      <td>10388.657239</td>\n",
              "      <td>2</td>\n",
              "    </tr>\n",
              "    <tr>\n",
              "      <th>544724</th>\n",
              "      <td>26584</td>\n",
              "      <td>2345</td>\n",
              "      <td>10</td>\n",
              "      <td>1732</td>\n",
              "      <td>21800</td>\n",
              "      <td>21561.919736</td>\n",
              "      <td>1</td>\n",
              "    </tr>\n",
              "    <tr>\n",
              "      <th>1098882</th>\n",
              "      <td>41738</td>\n",
              "      <td>332</td>\n",
              "      <td>46</td>\n",
              "      <td>1072</td>\n",
              "      <td>19985</td>\n",
              "      <td>17451.331649</td>\n",
              "      <td>0</td>\n",
              "    </tr>\n",
              "    <tr>\n",
              "      <th>246504</th>\n",
              "      <td>122659</td>\n",
              "      <td>716</td>\n",
              "      <td>33</td>\n",
              "      <td>1584</td>\n",
              "      <td>6450</td>\n",
              "      <td>11061.964542</td>\n",
              "      <td>2</td>\n",
              "    </tr>\n",
              "    <tr>\n",
              "      <th>886654</th>\n",
              "      <td>94173</td>\n",
              "      <td>1246</td>\n",
              "      <td>25</td>\n",
              "      <td>2585</td>\n",
              "      <td>23970</td>\n",
              "      <td>15684.309756</td>\n",
              "      <td>2</td>\n",
              "    </tr>\n",
              "  </tbody>\n",
              "</table>\n",
              "</div>\n",
              "      <button class=\"colab-df-convert\" onclick=\"convertToInteractive('df-03684987-faf2-4813-b3a1-f7ca20278cd7')\"\n",
              "              title=\"Convert this dataframe to an interactive table.\"\n",
              "              style=\"display:none;\">\n",
              "        \n",
              "  <svg xmlns=\"http://www.w3.org/2000/svg\" height=\"24px\"viewBox=\"0 0 24 24\"\n",
              "       width=\"24px\">\n",
              "    <path d=\"M0 0h24v24H0V0z\" fill=\"none\"/>\n",
              "    <path d=\"M18.56 5.44l.94 2.06.94-2.06 2.06-.94-2.06-.94-.94-2.06-.94 2.06-2.06.94zm-11 1L8.5 8.5l.94-2.06 2.06-.94-2.06-.94L8.5 2.5l-.94 2.06-2.06.94zm10 10l.94 2.06.94-2.06 2.06-.94-2.06-.94-.94-2.06-.94 2.06-2.06.94z\"/><path d=\"M17.41 7.96l-1.37-1.37c-.4-.4-.92-.59-1.43-.59-.52 0-1.04.2-1.43.59L10.3 9.45l-7.72 7.72c-.78.78-.78 2.05 0 2.83L4 21.41c.39.39.9.59 1.41.59.51 0 1.02-.2 1.41-.59l7.78-7.78 2.81-2.81c.8-.78.8-2.07 0-2.86zM5.41 20L4 18.59l7.72-7.72 1.47 1.35L5.41 20z\"/>\n",
              "  </svg>\n",
              "      </button>\n",
              "      \n",
              "  <style>\n",
              "    .colab-df-container {\n",
              "      display:flex;\n",
              "      flex-wrap:wrap;\n",
              "      gap: 12px;\n",
              "    }\n",
              "\n",
              "    .colab-df-convert {\n",
              "      background-color: #E8F0FE;\n",
              "      border: none;\n",
              "      border-radius: 50%;\n",
              "      cursor: pointer;\n",
              "      display: none;\n",
              "      fill: #1967D2;\n",
              "      height: 32px;\n",
              "      padding: 0 0 0 0;\n",
              "      width: 32px;\n",
              "    }\n",
              "\n",
              "    .colab-df-convert:hover {\n",
              "      background-color: #E2EBFA;\n",
              "      box-shadow: 0px 1px 2px rgba(60, 64, 67, 0.3), 0px 1px 3px 1px rgba(60, 64, 67, 0.15);\n",
              "      fill: #174EA6;\n",
              "    }\n",
              "\n",
              "    [theme=dark] .colab-df-convert {\n",
              "      background-color: #3B4455;\n",
              "      fill: #D2E3FC;\n",
              "    }\n",
              "\n",
              "    [theme=dark] .colab-df-convert:hover {\n",
              "      background-color: #434B5C;\n",
              "      box-shadow: 0px 1px 3px 1px rgba(0, 0, 0, 0.15);\n",
              "      filter: drop-shadow(0px 1px 2px rgba(0, 0, 0, 0.3));\n",
              "      fill: #FFFFFF;\n",
              "    }\n",
              "  </style>\n",
              "\n",
              "      <script>\n",
              "        const buttonEl =\n",
              "          document.querySelector('#df-03684987-faf2-4813-b3a1-f7ca20278cd7 button.colab-df-convert');\n",
              "        buttonEl.style.display =\n",
              "          google.colab.kernel.accessAllowed ? 'block' : 'none';\n",
              "\n",
              "        async function convertToInteractive(key) {\n",
              "          const element = document.querySelector('#df-03684987-faf2-4813-b3a1-f7ca20278cd7');\n",
              "          const dataTable =\n",
              "            await google.colab.kernel.invokeFunction('convertToInteractive',\n",
              "                                                     [key], {});\n",
              "          if (!dataTable) return;\n",
              "\n",
              "          const docLinkHtml = 'Like what you see? Visit the ' +\n",
              "            '<a target=\"_blank\" href=https://colab.research.google.com/notebooks/data_table.ipynb>data table notebook</a>'\n",
              "            + ' to learn more about interactive tables.';\n",
              "          element.innerHTML = '';\n",
              "          dataTable['output_type'] = 'display_data';\n",
              "          await google.colab.output.renderOutput(dataTable, element);\n",
              "          const docLink = document.createElement('div');\n",
              "          docLink.innerHTML = docLinkHtml;\n",
              "          element.appendChild(docLink);\n",
              "        }\n",
              "      </script>\n",
              "    </div>\n",
              "  </div>\n",
              "  "
            ]
          },
          "metadata": {},
          "execution_count": 76
        }
      ]
    },
    {
      "cell_type": "code",
      "source": [
        "#Error Metrics\n",
        "from sklearn.metrics import mean_squared_error\n",
        "from math import sqrt\n",
        "mse = mean_squared_error(y_test, y_lr_k_means_pred)\n",
        "print(mse)\n",
        "rms = sqrt(mean_squared_error(y_test, y_lr_k_means_pred))\n",
        "print(rms)"
      ],
      "metadata": {
        "colab": {
          "base_uri": "https://localhost:8080/"
        },
        "id": "ocOGcgp7s4K2",
        "outputId": "bf34b39c-ac91-4421-c6cb-c11394e1fa51"
      },
      "execution_count": 77,
      "outputs": [
        {
          "output_type": "stream",
          "name": "stdout",
          "text": [
            "64537017.82900723\n",
            "8033.493500900292\n"
          ]
        }
      ]
    },
    {
      "cell_type": "code",
      "source": [
        "#R2 Score\n",
        "from sklearn.metrics import r2_score\n",
        "lr_Kmeans=r2_score(y_test, y_lr_k_means_pred)\n",
        "print(r2_score(y_test, y_lr_k_means_pred))"
      ],
      "metadata": {
        "colab": {
          "base_uri": "https://localhost:8080/"
        },
        "id": "7u48dtIhtHmm",
        "outputId": "54e26324-0245-43e4-aed7-2a6ad3ccf131"
      },
      "execution_count": 78,
      "outputs": [
        {
          "output_type": "stream",
          "name": "stdout",
          "text": [
            "0.20036158022678774\n"
          ]
        }
      ]
    },
    {
      "cell_type": "markdown",
      "source": [
        "Result:"
      ],
      "metadata": {
        "id": "uAvL-kFdsqNG"
      }
    },
    {
      "cell_type": "code",
      "source": [
        "accuracy = pd.DataFrame(data={'Model':['Linear Regression','Gradient Boosting Regressor','Random forest Regressor','XGBoost Regressor','Light GBM Regressor','Linear_Kmeans'],'Accuary':[linearReg,GradientBoosting,RandomForest,XGBoostRegressor,LightgbmRegressor,lr_Kmeans]})"
      ],
      "metadata": {
        "id": "G36PHEHD0_f8"
      },
      "execution_count": 79,
      "outputs": []
    },
    {
      "cell_type": "code",
      "source": [
        "accuracy"
      ],
      "metadata": {
        "id": "Q7eKeeAz1cyR",
        "colab": {
          "base_uri": "https://localhost:8080/",
          "height": 238
        },
        "outputId": "1d445c4b-fef9-4d80-cb2d-8f45f34ac3c3"
      },
      "execution_count": 80,
      "outputs": [
        {
          "output_type": "execute_result",
          "data": {
            "text/plain": [
              "                         Model   Accuary\n",
              "0            Linear Regression  0.251691\n",
              "1  Gradient Boosting Regressor  0.619235\n",
              "2      Random forest Regressor  0.848762\n",
              "3            XGBoost Regressor  0.782347\n",
              "4          Light GBM Regressor  0.779314\n",
              "5                Linear_Kmeans  0.200362"
            ],
            "text/html": [
              "\n",
              "  <div id=\"df-30d56466-107d-4143-bd79-dc0777f1d38e\">\n",
              "    <div class=\"colab-df-container\">\n",
              "      <div>\n",
              "<style scoped>\n",
              "    .dataframe tbody tr th:only-of-type {\n",
              "        vertical-align: middle;\n",
              "    }\n",
              "\n",
              "    .dataframe tbody tr th {\n",
              "        vertical-align: top;\n",
              "    }\n",
              "\n",
              "    .dataframe thead th {\n",
              "        text-align: right;\n",
              "    }\n",
              "</style>\n",
              "<table border=\"1\" class=\"dataframe\">\n",
              "  <thead>\n",
              "    <tr style=\"text-align: right;\">\n",
              "      <th></th>\n",
              "      <th>Model</th>\n",
              "      <th>Accuary</th>\n",
              "    </tr>\n",
              "  </thead>\n",
              "  <tbody>\n",
              "    <tr>\n",
              "      <th>0</th>\n",
              "      <td>Linear Regression</td>\n",
              "      <td>0.251691</td>\n",
              "    </tr>\n",
              "    <tr>\n",
              "      <th>1</th>\n",
              "      <td>Gradient Boosting Regressor</td>\n",
              "      <td>0.619235</td>\n",
              "    </tr>\n",
              "    <tr>\n",
              "      <th>2</th>\n",
              "      <td>Random forest Regressor</td>\n",
              "      <td>0.848762</td>\n",
              "    </tr>\n",
              "    <tr>\n",
              "      <th>3</th>\n",
              "      <td>XGBoost Regressor</td>\n",
              "      <td>0.782347</td>\n",
              "    </tr>\n",
              "    <tr>\n",
              "      <th>4</th>\n",
              "      <td>Light GBM Regressor</td>\n",
              "      <td>0.779314</td>\n",
              "    </tr>\n",
              "    <tr>\n",
              "      <th>5</th>\n",
              "      <td>Linear_Kmeans</td>\n",
              "      <td>0.200362</td>\n",
              "    </tr>\n",
              "  </tbody>\n",
              "</table>\n",
              "</div>\n",
              "      <button class=\"colab-df-convert\" onclick=\"convertToInteractive('df-30d56466-107d-4143-bd79-dc0777f1d38e')\"\n",
              "              title=\"Convert this dataframe to an interactive table.\"\n",
              "              style=\"display:none;\">\n",
              "        \n",
              "  <svg xmlns=\"http://www.w3.org/2000/svg\" height=\"24px\"viewBox=\"0 0 24 24\"\n",
              "       width=\"24px\">\n",
              "    <path d=\"M0 0h24v24H0V0z\" fill=\"none\"/>\n",
              "    <path d=\"M18.56 5.44l.94 2.06.94-2.06 2.06-.94-2.06-.94-.94-2.06-.94 2.06-2.06.94zm-11 1L8.5 8.5l.94-2.06 2.06-.94-2.06-.94L8.5 2.5l-.94 2.06-2.06.94zm10 10l.94 2.06.94-2.06 2.06-.94-2.06-.94-.94-2.06-.94 2.06-2.06.94z\"/><path d=\"M17.41 7.96l-1.37-1.37c-.4-.4-.92-.59-1.43-.59-.52 0-1.04.2-1.43.59L10.3 9.45l-7.72 7.72c-.78.78-.78 2.05 0 2.83L4 21.41c.39.39.9.59 1.41.59.51 0 1.02-.2 1.41-.59l7.78-7.78 2.81-2.81c.8-.78.8-2.07 0-2.86zM5.41 20L4 18.59l7.72-7.72 1.47 1.35L5.41 20z\"/>\n",
              "  </svg>\n",
              "      </button>\n",
              "      \n",
              "  <style>\n",
              "    .colab-df-container {\n",
              "      display:flex;\n",
              "      flex-wrap:wrap;\n",
              "      gap: 12px;\n",
              "    }\n",
              "\n",
              "    .colab-df-convert {\n",
              "      background-color: #E8F0FE;\n",
              "      border: none;\n",
              "      border-radius: 50%;\n",
              "      cursor: pointer;\n",
              "      display: none;\n",
              "      fill: #1967D2;\n",
              "      height: 32px;\n",
              "      padding: 0 0 0 0;\n",
              "      width: 32px;\n",
              "    }\n",
              "\n",
              "    .colab-df-convert:hover {\n",
              "      background-color: #E2EBFA;\n",
              "      box-shadow: 0px 1px 2px rgba(60, 64, 67, 0.3), 0px 1px 3px 1px rgba(60, 64, 67, 0.15);\n",
              "      fill: #174EA6;\n",
              "    }\n",
              "\n",
              "    [theme=dark] .colab-df-convert {\n",
              "      background-color: #3B4455;\n",
              "      fill: #D2E3FC;\n",
              "    }\n",
              "\n",
              "    [theme=dark] .colab-df-convert:hover {\n",
              "      background-color: #434B5C;\n",
              "      box-shadow: 0px 1px 3px 1px rgba(0, 0, 0, 0.15);\n",
              "      filter: drop-shadow(0px 1px 2px rgba(0, 0, 0, 0.3));\n",
              "      fill: #FFFFFF;\n",
              "    }\n",
              "  </style>\n",
              "\n",
              "      <script>\n",
              "        const buttonEl =\n",
              "          document.querySelector('#df-30d56466-107d-4143-bd79-dc0777f1d38e button.colab-df-convert');\n",
              "        buttonEl.style.display =\n",
              "          google.colab.kernel.accessAllowed ? 'block' : 'none';\n",
              "\n",
              "        async function convertToInteractive(key) {\n",
              "          const element = document.querySelector('#df-30d56466-107d-4143-bd79-dc0777f1d38e');\n",
              "          const dataTable =\n",
              "            await google.colab.kernel.invokeFunction('convertToInteractive',\n",
              "                                                     [key], {});\n",
              "          if (!dataTable) return;\n",
              "\n",
              "          const docLinkHtml = 'Like what you see? Visit the ' +\n",
              "            '<a target=\"_blank\" href=https://colab.research.google.com/notebooks/data_table.ipynb>data table notebook</a>'\n",
              "            + ' to learn more about interactive tables.';\n",
              "          element.innerHTML = '';\n",
              "          dataTable['output_type'] = 'display_data';\n",
              "          await google.colab.output.renderOutput(dataTable, element);\n",
              "          const docLink = document.createElement('div');\n",
              "          docLink.innerHTML = docLinkHtml;\n",
              "          element.appendChild(docLink);\n",
              "        }\n",
              "      </script>\n",
              "    </div>\n",
              "  </div>\n",
              "  "
            ]
          },
          "metadata": {},
          "execution_count": 80
        }
      ]
    },
    {
      "cell_type": "markdown",
      "source": [
        "Conclusion:\n",
        "We can conclude that top three models are Random Forest Regressor,Extreme Gradient Boosting Regressor and Light Gradient Boosting Regressor."
      ],
      "metadata": {
        "id": "g3xWvU110DSt"
      }
    }
  ]
}